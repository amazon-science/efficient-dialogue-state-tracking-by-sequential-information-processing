{
 "cells": [
  {
   "cell_type": "markdown",
   "metadata": {},
   "source": [
    "Evaluating models trained on v2.2 on v2.2 and v2.4"
   ]
  },
  {
   "cell_type": "code",
   "execution_count": 2,
   "metadata": {},
   "outputs": [],
   "source": [
    "%load_ext autoreload\n",
    "%autoreload 2"
   ]
  },
  {
   "cell_type": "code",
   "execution_count": 3,
   "metadata": {},
   "outputs": [],
   "source": [
    "# imports\n",
    "import re\n",
    "from copy import deepcopy\n",
    "from pathlib import Path\n",
    "from typing import *\n",
    "\n",
    "import pandas as pd\n",
    "import srsly\n",
    "import swifter\n",
    "import wandb\n",
    "from datasets import load_from_disk\n",
    "from hydra.utils import instantiate\n",
    "from omegaconf import OmegaConf\n",
    "from tqdm.auto import tqdm\n",
    "\n",
    "pd.set_option(\"display.max_colwidth\", None)\n",
    "pd.set_option(\"display.max_columns\", None)\n",
    "import matplotlib.pyplot as plt\n",
    "import seaborn as sns\n",
    "from matplotlib import ticker\n",
    "from polyfuzz import PolyFuzz\n",
    "from polyfuzz.models import TFIDF, EditDistance\n",
    "from rapidfuzz import fuzz\n",
    "from transformers import AutoModelForSeq2SeqLM, AutoTokenizer\n",
    "\n",
    "from src.data.utilities import (\n",
    "    check_dict_equal,\n",
    "    clean_slot_values,\n",
    "    clean_time,\n",
    "    complement_labels,\n",
    "    diff_train,\n",
    "    extract_domains,\n",
    "    extract_slots,\n",
    "    extract_values,\n",
    "    remove_empty_slots,\n",
    ")\n",
    "from src.evaluation import compute_prf, diff, jga, prepare_states_eval, slot_metrics\n",
    "from src.model import DSTTask"
   ]
  },
  {
   "cell_type": "code",
   "execution_count": 17,
   "metadata": {},
   "outputs": [
    {
     "data": {
      "application/vnd.jupyter.widget-view+json": {
       "model_id": "632874a3804f4382a772ee0b2a5bb51f",
       "version_major": 2,
       "version_minor": 0
      },
      "text/plain": [
       "experiment_1:   0%|          | 0/2133 [00:00<?, ?it/s]"
      ]
     },
     "metadata": {},
     "output_type": "display_data"
    }
   ],
   "source": [
    "list_dfs = []\n",
    "path = Path(\"../preds\")\n",
    "\n",
    "for exp_path in list(path.rglob(\"*experiment_1\")):\n",
    "\n",
    "    for p in tqdm(list(exp_path.rglob(\"*preds.parquet\")), desc=exp_path.name):\n",
    "\n",
    "        if p.parents[2].name != \"v0\":\n",
    "            continue\n",
    "\n",
    "        # load\n",
    "        df = pd.read_parquet(p).assign(\n",
    "            split=p.parents[0].name,\n",
    "            epoch=int(p.parents[1].name.split(\"=\")[1]),\n",
    "            version=p.parents[2].name,\n",
    "            model=p.parents[4].name,\n",
    "            size=p.parents[5].name,\n",
    "        )\n",
    "\n",
    "        # extract slots from experiments with normal states\n",
    "        df = df.assign(\n",
    "            states=lambda df_: df_[\"states\"].map(remove_empty_slots),\n",
    "            previous_states=lambda df_: df_[\"previous_states\"].map(remove_empty_slots),\n",
    "        )\n",
    "\n",
    "        list_dfs.append(df)"
   ]
  },
  {
   "cell_type": "code",
   "execution_count": 5,
   "metadata": {},
   "outputs": [
    {
     "data": {
      "text/html": [
       "<div>\n",
       "<style scoped>\n",
       "    .dataframe tbody tr th:only-of-type {\n",
       "        vertical-align: middle;\n",
       "    }\n",
       "\n",
       "    .dataframe tbody tr th {\n",
       "        vertical-align: top;\n",
       "    }\n",
       "\n",
       "    .dataframe thead th {\n",
       "        text-align: right;\n",
       "    }\n",
       "</style>\n",
       "<table border=\"1\" class=\"dataframe\">\n",
       "  <thead>\n",
       "    <tr style=\"text-align: right;\">\n",
       "      <th></th>\n",
       "      <th></th>\n",
       "      <th></th>\n",
       "      <th>epoch</th>\n",
       "      <th>dialogue_id</th>\n",
       "    </tr>\n",
       "    <tr>\n",
       "      <th>model</th>\n",
       "      <th>split</th>\n",
       "      <th>version</th>\n",
       "      <th></th>\n",
       "      <th></th>\n",
       "    </tr>\n",
       "  </thead>\n",
       "  <tbody>\n",
       "    <tr>\n",
       "      <th rowspan=\"2\" valign=\"top\">mwoz22_ops_nohist+prev_2022-11-24T04-26-31</th>\n",
       "      <th>test</th>\n",
       "      <th>v4</th>\n",
       "      <td>20</td>\n",
       "      <td>1000</td>\n",
       "    </tr>\n",
       "    <tr>\n",
       "      <th>validation</th>\n",
       "      <th>v4</th>\n",
       "      <td>20</td>\n",
       "      <td>1000</td>\n",
       "    </tr>\n",
       "    <tr>\n",
       "      <th rowspan=\"2\" valign=\"top\">mwoz22_ops_nohist+prev_2022-12-05T14-00-06</th>\n",
       "      <th>test</th>\n",
       "      <th>v4</th>\n",
       "      <td>20</td>\n",
       "      <td>1000</td>\n",
       "    </tr>\n",
       "    <tr>\n",
       "      <th>validation</th>\n",
       "      <th>v4</th>\n",
       "      <td>20</td>\n",
       "      <td>1000</td>\n",
       "    </tr>\n",
       "    <tr>\n",
       "      <th rowspan=\"2\" valign=\"top\">mwoz22_ops_nohist+prev_2022-12-05T19-16-00</th>\n",
       "      <th>test</th>\n",
       "      <th>v4</th>\n",
       "      <td>20</td>\n",
       "      <td>1000</td>\n",
       "    </tr>\n",
       "    <tr>\n",
       "      <th>validation</th>\n",
       "      <th>v4</th>\n",
       "      <td>20</td>\n",
       "      <td>1000</td>\n",
       "    </tr>\n",
       "    <tr>\n",
       "      <th rowspan=\"2\" valign=\"top\">mwoz22_ops_nohist+prev_2022-12-06T00-36-24</th>\n",
       "      <th>test</th>\n",
       "      <th>v4</th>\n",
       "      <td>20</td>\n",
       "      <td>1000</td>\n",
       "    </tr>\n",
       "    <tr>\n",
       "      <th>validation</th>\n",
       "      <th>v4</th>\n",
       "      <td>20</td>\n",
       "      <td>1000</td>\n",
       "    </tr>\n",
       "    <tr>\n",
       "      <th rowspan=\"2\" valign=\"top\">mwoz22_ops_nohist+prev_2022-12-06T06-00-06</th>\n",
       "      <th>test</th>\n",
       "      <th>v4</th>\n",
       "      <td>20</td>\n",
       "      <td>1000</td>\n",
       "    </tr>\n",
       "    <tr>\n",
       "      <th>validation</th>\n",
       "      <th>v4</th>\n",
       "      <td>20</td>\n",
       "      <td>1000</td>\n",
       "    </tr>\n",
       "  </tbody>\n",
       "</table>\n",
       "</div>"
      ],
      "text/plain": [
       "                                                               epoch  \\\n",
       "model                                      split      version          \n",
       "mwoz22_ops_nohist+prev_2022-11-24T04-26-31 test       v4          20   \n",
       "                                           validation v4          20   \n",
       "mwoz22_ops_nohist+prev_2022-12-05T14-00-06 test       v4          20   \n",
       "                                           validation v4          20   \n",
       "mwoz22_ops_nohist+prev_2022-12-05T19-16-00 test       v4          20   \n",
       "                                           validation v4          20   \n",
       "mwoz22_ops_nohist+prev_2022-12-06T00-36-24 test       v4          20   \n",
       "                                           validation v4          20   \n",
       "mwoz22_ops_nohist+prev_2022-12-06T06-00-06 test       v4          20   \n",
       "                                           validation v4          20   \n",
       "\n",
       "                                                               dialogue_id  \n",
       "model                                      split      version               \n",
       "mwoz22_ops_nohist+prev_2022-11-24T04-26-31 test       v4              1000  \n",
       "                                           validation v4              1000  \n",
       "mwoz22_ops_nohist+prev_2022-12-05T14-00-06 test       v4              1000  \n",
       "                                           validation v4              1000  \n",
       "mwoz22_ops_nohist+prev_2022-12-05T19-16-00 test       v4              1000  \n",
       "                                           validation v4              1000  \n",
       "mwoz22_ops_nohist+prev_2022-12-06T00-36-24 test       v4              1000  \n",
       "                                           validation v4              1000  \n",
       "mwoz22_ops_nohist+prev_2022-12-06T06-00-06 test       v4              1000  \n",
       "                                           validation v4              1000  "
      ]
     },
     "execution_count": 5,
     "metadata": {},
     "output_type": "execute_result"
    }
   ],
   "source": [
    "df = pd.concat(list_dfs).reset_index(drop=True)\n",
    "df.groupby([\"model\", \"split\", \"version\"])[[\"epoch\", \"dialogue_id\"]].nunique()"
   ]
  },
  {
   "cell_type": "code",
   "execution_count": 6,
   "metadata": {},
   "outputs": [
    {
     "data": {
      "application/vnd.jupyter.widget-view+json": {
       "model_id": "27f213840e3f48aaa1d9e7b806978be9",
       "version_major": 2,
       "version_minor": 0
      },
      "text/plain": [
       "Pandas Apply:   0%|          | 0/1674600 [00:00<?, ?it/s]"
      ]
     },
     "metadata": {},
     "output_type": "display_data"
    }
   ],
   "source": [
    "df[\"states\"] = df[\"states\"].swifter.apply(prepare_states_eval)"
   ]
  },
  {
   "cell_type": "code",
   "execution_count": 7,
   "metadata": {},
   "outputs": [
    {
     "name": "stdout",
     "output_type": "stream",
     "text": [
      "66984\n",
      "58984\n"
     ]
    }
   ],
   "source": [
    "# load gold annotations\n",
    "list_dfs = []\n",
    "for v in (\"21\", \"22\", \"23\", \"24\"):\n",
    "    dataset_dict = load_from_disk(f\"../data/processed/multiwoz_{v}\")\n",
    "\n",
    "    true_df = (\n",
    "        pd.concat([dataset_dict[split].to_pandas() for split in (\"test\", \"validation\")])\n",
    "        .sort_values([\"dialogue_id\", \"turn_id\"])\n",
    "        .reset_index(drop=True)\n",
    "        .assign(\n",
    "            states=lambda df_: df_[f\"states\"].map(lambda ex: prepare_states_eval(remove_empty_slots(ex))), version=v\n",
    "        )\n",
    "    )\n",
    "\n",
    "    list_dfs.append(true_df)\n",
    "\n",
    "\n",
    "true_df = pd.concat(list_dfs).reset_index(drop=True)\n",
    "print(len(true_df))\n",
    "true_df = true_df.loc[true_df[\"usr_utt\"] != \"none\", [\"dialogue_id\", \"turn_id\", \"states\", \"version\"]]\n",
    "print(len(true_df))\n",
    "true_df = true_df.set_index([\"dialogue_id\", \"turn_id\", \"version\"]).unstack(-1)\n",
    "true_df.columns = [f\"{i}_{j}\" for i, j in true_df.columns]\n",
    "true_df = true_df.reset_index()"
   ]
  },
  {
   "cell_type": "code",
   "execution_count": 8,
   "metadata": {},
   "outputs": [],
   "source": [
    "regexs = []\n",
    "for v in [\"guest house\", \"swimming pool\", \"night club\", \"concert hall\"]:\n",
    "    regexs += [\n",
    "        (re.compile(v, flags=re.IGNORECASE), v.replace(\" \", \"\")),\n",
    "        (re.compile(v.replace(\" \", \"\"), flags=re.IGNORECASE), v),\n",
    "    ]\n",
    "\n",
    "for v in [(\"theater\", \"theatre\"), (\"center\", \"centre\")]:\n",
    "    regexs += [\n",
    "        (re.compile(v[0], flags=re.IGNORECASE), v[1]),\n",
    "        (re.compile(v[1], flags=re.IGNORECASE), v[0]),\n",
    "    ]\n",
    "\n",
    "regexs.append((re.compile(\"star\", flags=re.IGNORECASE), \"\"))\n",
    "\n",
    "\n",
    "def add_variations(state: Union[Dict, None], regexs) -> Union[Dict, None]:\n",
    "    if state is None:\n",
    "        return None\n",
    "\n",
    "    new_state = deepcopy(state)\n",
    "    for k, v_list in new_state.items():\n",
    "        new_v_list = []\n",
    "        for v in v_list:\n",
    "            for pat, sub in regexs:\n",
    "                new_v_list.append(pat.sub(sub, v).strip())\n",
    "\n",
    "                if v.startswith(\"the\"):\n",
    "                    new_v_list.append(v.lstrip(\"the\").strip())\n",
    "\n",
    "        new_state[k] = list(set(new_v_list))\n",
    "\n",
    "    return new_state"
   ]
  },
  {
   "cell_type": "code",
   "execution_count": 9,
   "metadata": {},
   "outputs": [],
   "source": [
    "for v in (\"21\", \"22\", \"23\", \"24\"):\n",
    "    true_df[f\"new_states_{v}\"] = true_df[f\"states_{v}\"].map(lambda ex: add_variations(ex, regexs))"
   ]
  },
  {
   "cell_type": "code",
   "execution_count": 10,
   "metadata": {},
   "outputs": [],
   "source": [
    "# add gold annotations\n",
    "pred_df = pd.merge(\n",
    "    df,\n",
    "    true_df,\n",
    "    on=[\"dialogue_id\", \"turn_id\"],\n",
    "    how=\"inner\",\n",
    ")\n",
    "# assert len(df) == len(pred_df)"
   ]
  },
  {
   "cell_type": "code",
   "execution_count": 11,
   "metadata": {},
   "outputs": [
    {
     "data": {
      "application/vnd.jupyter.widget-view+json": {
       "model_id": "6e5997bd0b3243ed9252516787d42a2b",
       "version_major": 2,
       "version_minor": 0
      },
      "text/plain": [
       "Pandas Apply:   0%|          | 0/1474600 [00:00<?, ?it/s]"
      ]
     },
     "metadata": {},
     "output_type": "display_data"
    },
    {
     "data": {
      "application/vnd.jupyter.widget-view+json": {
       "model_id": "d8106ed67b0b4c6e896ec5d5b3494a48",
       "version_major": 2,
       "version_minor": 0
      },
      "text/plain": [
       "Pandas Apply:   0%|          | 0/1474600 [00:00<?, ?it/s]"
      ]
     },
     "metadata": {},
     "output_type": "display_data"
    },
    {
     "data": {
      "application/vnd.jupyter.widget-view+json": {
       "model_id": "d975b023f9c5452486f90926e2d03e4d",
       "version_major": 2,
       "version_minor": 0
      },
      "text/plain": [
       "Pandas Apply:   0%|          | 0/1474600 [00:00<?, ?it/s]"
      ]
     },
     "metadata": {},
     "output_type": "display_data"
    },
    {
     "data": {
      "application/vnd.jupyter.widget-view+json": {
       "model_id": "68677b11458c46039ee9a41d7a92c040",
       "version_major": 2,
       "version_minor": 0
      },
      "text/plain": [
       "Pandas Apply:   0%|          | 0/1474600 [00:00<?, ?it/s]"
      ]
     },
     "metadata": {},
     "output_type": "display_data"
    },
    {
     "data": {
      "application/vnd.jupyter.widget-view+json": {
       "model_id": "873e093c4acd4dc18597f8528d6bbbe3",
       "version_major": 2,
       "version_minor": 0
      },
      "text/plain": [
       "Pandas Apply:   0%|          | 0/1474600 [00:00<?, ?it/s]"
      ]
     },
     "metadata": {},
     "output_type": "display_data"
    },
    {
     "data": {
      "application/vnd.jupyter.widget-view+json": {
       "model_id": "eed5e15a3ee94659852d9c521c307ee1",
       "version_major": 2,
       "version_minor": 0
      },
      "text/plain": [
       "Pandas Apply:   0%|          | 0/1474600 [00:00<?, ?it/s]"
      ]
     },
     "metadata": {},
     "output_type": "display_data"
    },
    {
     "data": {
      "application/vnd.jupyter.widget-view+json": {
       "model_id": "fd8eaca6150a410ca9b39f022d11db22",
       "version_major": 2,
       "version_minor": 0
      },
      "text/plain": [
       "Pandas Apply:   0%|          | 0/1474600 [00:00<?, ?it/s]"
      ]
     },
     "metadata": {},
     "output_type": "display_data"
    },
    {
     "data": {
      "application/vnd.jupyter.widget-view+json": {
       "model_id": "3d9fb38fb880498dbf487bee954f7636",
       "version_major": 2,
       "version_minor": 0
      },
      "text/plain": [
       "Pandas Apply:   0%|          | 0/1474600 [00:00<?, ?it/s]"
      ]
     },
     "metadata": {},
     "output_type": "display_data"
    }
   ],
   "source": [
    "# compute correct predictions\n",
    "for v in (\"21\", \"22\", \"23\", \"24\"):\n",
    "    pred_df[f\"jga_turn_{v}\"] = pred_df.swifter.apply(\n",
    "        lambda row: jga(row[\"states\"], row[f\"states_{v}\"]),\n",
    "        axis=1,\n",
    "    )\n",
    "\n",
    "    pred_df[f\"new_jga_turn_{v}\"] = pred_df.swifter.apply(\n",
    "        lambda row: jga(row[\"states\"], row[f\"new_states_{v}\"]),\n",
    "        axis=1,\n",
    "    )"
   ]
  },
  {
   "cell_type": "code",
   "execution_count": 12,
   "metadata": {},
   "outputs": [],
   "source": [
    "eval_cols = []\n",
    "for v in (\"21\", \"22\", \"23\", \"24\"):\n",
    "    eval_cols += [f\"jga_turn_{v}\", f\"new_jga_turn_{v}\"]\n",
    "index_cols = [\"model\", \"version\", \"split\", \"size\", \"epoch\"]"
   ]
  },
  {
   "cell_type": "code",
   "execution_count": 13,
   "metadata": {},
   "outputs": [],
   "source": [
    "results = pred_df.groupby(index_cols)[eval_cols].mean()\n",
    "other = results.loc[~results.index.get_level_values(\"model\").str.contains(\"mwoz22\")].copy()\n",
    "results = results.loc[results.index.get_level_values(\"model\").str.contains(\"mwoz22\")]"
   ]
  },
  {
   "cell_type": "code",
   "execution_count": 14,
   "metadata": {},
   "outputs": [],
   "source": [
    "validation_results = []\n",
    "for col in eval_cols:\n",
    "    val_best_ids = results.groupby(index_cols[:-1])[col].idxmax().reset_index()\n",
    "    val_best_ids = val_best_ids.loc[val_best_ids[\"split\"] == \"validation\"].assign(\n",
    "        best_ckpt=lambda df_: df_[col].map(lambda ex: (ex[0], ex[1], ex[3], ex[4]))\n",
    "    )\n",
    "    dd = results.loc[results.index.droplevel(\"split\").isin(val_best_ids[\"best_ckpt\"]), [col]].assign(\n",
    "        metric_name=col, metric=lambda df_: df_[col] * 100\n",
    "    )[[\"metric_name\", \"metric\"]]\n",
    "\n",
    "    validation_results.append(dd)\n",
    "\n",
    "\n",
    "validation_results = pd.concat(validation_results).reset_index()\n",
    "validation_results[\"exp\"] = validation_results[\"model\"].str.split(\"_\").map(lambda ex: f\"{ex[1]}_{ex[2]}\")\n",
    "validation_results = (\n",
    "    validation_results.groupby(index_cols[1:-1] + [\"exp\", \"metric_name\"])[\"metric\"].describe().reset_index()\n",
    ")"
   ]
  },
  {
   "cell_type": "code",
   "execution_count": 16,
   "metadata": {},
   "outputs": [
    {
     "name": "stdout",
     "output_type": "stream",
     "text": [
      "\\begin{tabular}{lrrrrrrr}\n",
      "\\toprule\n",
      "    metric\\_name &  mean &  std &   min &   25\\% &   50\\% &   75\\% &   max \\\\\n",
      "\\midrule\n",
      "    jga\\_turn\\_21 & 53.02 & 0.20 & 52.69 & 53.02 & 53.02 & 53.15 & 53.21 \\\\\n",
      "    jga\\_turn\\_22 & 56.02 & 0.15 & 55.78 & 55.98 & 56.09 & 56.12 & 56.13 \\\\\n",
      "    jga\\_turn\\_23 & 50.74 & 0.19 & 50.42 & 50.72 & 50.81 & 50.83 & 50.90 \\\\\n",
      "    jga\\_turn\\_24 & 86.26 & 0.34 & 85.85 & 86.03 & 86.25 & 86.44 & 86.73 \\\\\n",
      "new\\_jga\\_turn\\_21 & 57.59 & 0.10 & 57.49 & 57.54 & 57.58 & 57.58 & 57.75 \\\\\n",
      "new\\_jga\\_turn\\_22 & 60.71 & 0.14 & 60.47 & 60.72 & 60.73 & 60.78 & 60.85 \\\\\n",
      "new\\_jga\\_turn\\_23 & 56.20 & 0.13 & 56.05 & 56.09 & 56.21 & 56.31 & 56.36 \\\\\n",
      "new\\_jga\\_turn\\_24 & 88.29 & 0.35 & 87.85 & 88.10 & 88.24 & 88.52 & 88.73 \\\\\n",
      "\\bottomrule\n",
      "\\end{tabular}\n",
      "\n"
     ]
    }
   ],
   "source": [
    "validation_results_gold = validation_results.loc[(validation_results[\"version\"] == \"v4\")].copy()\n",
    "\n",
    "print(\n",
    "    validation_results_gold.loc[(validation_results_gold[\"split\"] == \"test\")]\n",
    "    .drop(columns=[\"version\", \"size\", \"split\", \"exp\", \"count\"])\n",
    "    .round(2)\n",
    "    .to_latex(index=False)\n",
    ")"
   ]
  },
  {
   "cell_type": "code",
   "execution_count": 52,
   "metadata": {},
   "outputs": [],
   "source": [
    "validation_results = validation_results.loc[(validation_results[\"version\"] != \"v2\")]"
   ]
  },
  {
   "cell_type": "code",
   "execution_count": 53,
   "metadata": {},
   "outputs": [],
   "source": [
    "all_results = (\n",
    "    validation_results.loc[(validation_results[\"split\"] == \"test\") & (validation_results[\"size\"] == \"base\")]\n",
    "    .drop(columns=[\"version\", \"split\", \"count\"])\n",
    "    .copy()\n",
    "    .assign(\n",
    "        state_repr=lambda df_: df_[\"exp\"]\n",
    "        .str.split(\"_\", expand=True)[0]\n",
    "        .map({\"cum\": \"Cumulative\", \"ops\": \"Operations\"}),\n",
    "        context=lambda df_: df_[\"exp\"]\n",
    "        .str.split(\"_\", expand=True)[1]\n",
    "        .map(\n",
    "            {\n",
    "                \"fullhist+nostate\": \"Full-history\",\n",
    "                \"fullhist+prev\": \"Full-history + State\",\n",
    "                \"nohist+prev\": \"State\",\n",
    "                \"partialhist+prev\": \"4 Turns + State\",\n",
    "            }\n",
    "        ),\n",
    "        metric_name=lambda df_: df_[\"metric_name\"].map(\n",
    "            {\n",
    "                \"jga_turn_21\": \"2.1\",\n",
    "                \"new_jga_turn_21\": \"2.1 (fix labels)\",\n",
    "                \"jga_turn_22\": \"2.2\",\n",
    "                \"new_jga_turn_22\": \"2.2 (fix labels)\",\n",
    "                \"jga_turn_23\": \"2.3\",\n",
    "                \"new_jga_turn_23\": \"2.3 (fix labels)\",\n",
    "                \"jga_turn_24\": \"2.4\",\n",
    "                \"new_jga_turn_24\": \"2.4 (fix labels)\",\n",
    "            }\n",
    "        ),\n",
    "    )[[\"state_repr\", \"context\", \"metric_name\", \"mean\", \"std\", \"min\", \"25%\", \"50%\", \"75%\", \"max\"]]\n",
    "    .rename(\n",
    "        columns={\n",
    "            \"state_repr\": \"State representation\",\n",
    "            \"context\": \"Context\",\n",
    "            \"size\": \"Model size\",\n",
    "            \"metric_name\": \"Dataset version\",\n",
    "        }\n",
    "    )\n",
    "    .set_index([\"State representation\", \"Context\", \"Dataset version\"])\n",
    "    .round(2)\n",
    ")"
   ]
  },
  {
   "cell_type": "code",
   "execution_count": 54,
   "metadata": {},
   "outputs": [
    {
     "name": "stdout",
     "output_type": "stream",
     "text": [
      "\\begin{tabular}{llrrrrrrr}\n",
      "\\toprule\n",
      "             Context &  Dataset version &  mean &  std &   min &   25\\% &   50\\% &   75\\% &   max \\\\\n",
      "\\midrule\n",
      "        Full-history &              2.1 & 49.47 & 0.22 & 49.12 & 49.39 & 49.55 & 49.63 & 49.66 \\\\\n",
      "        Full-history &              2.2 & 56.72 & 0.49 & 56.17 & 56.38 & 56.61 & 57.18 & 57.28 \\\\\n",
      "        Full-history &              2.3 & 47.67 & 0.59 & 47.10 & 47.19 & 47.48 & 48.14 & 48.44 \\\\\n",
      "        Full-history &              2.4 & 56.89 & 0.51 & 56.16 & 56.65 & 57.04 & 57.08 & 57.50 \\\\\n",
      "        Full-history & 2.1 (fix labels) & 50.69 & 0.37 & 50.45 & 50.47 & 50.60 & 50.61 & 51.34 \\\\\n",
      "        Full-history & 2.2 (fix labels) & 57.01 & 0.45 & 56.43 & 56.81 & 56.89 & 57.42 & 57.51 \\\\\n",
      "        Full-history & 2.3 (fix labels) & 49.51 & 0.63 & 48.74 & 48.94 & 49.81 & 49.85 & 50.19 \\\\\n",
      "        Full-history & 2.4 (fix labels) & 63.11 & 0.83 & 61.98 & 62.89 & 63.13 & 63.27 & 64.30 \\\\\n",
      "Full-history + State &              2.1 & 49.50 & 0.50 & 48.91 & 49.12 & 49.59 & 49.72 & 50.18 \\\\\n",
      "Full-history + State &              2.2 & 56.43 & 0.73 & 55.41 & 56.20 & 56.28 & 56.96 & 57.28 \\\\\n",
      "Full-history + State &              2.3 & 47.63 & 0.57 & 46.96 & 47.26 & 47.52 & 48.14 & 48.29 \\\\\n",
      "Full-history + State &              2.4 & 57.54 & 0.55 & 56.76 & 57.15 & 57.84 & 57.95 & 57.99 \\\\\n",
      "Full-history + State & 2.1 (fix labels) & 50.71 & 0.55 & 50.04 & 50.47 & 50.57 & 50.98 & 51.51 \\\\\n",
      "Full-history + State & 2.2 (fix labels) & 56.89 & 0.57 & 56.19 & 56.65 & 56.67 & 57.33 & 57.60 \\\\\n",
      "Full-history + State & 2.3 (fix labels) & 49.45 & 0.54 & 48.81 & 49.08 & 49.50 & 49.67 & 50.20 \\\\\n",
      "Full-history + State & 2.4 (fix labels) & 63.27 & 0.68 & 62.11 & 63.27 & 63.48 & 63.74 & 63.75 \\\\\n",
      "               State &              2.1 & 49.59 & 0.26 & 49.16 & 49.57 & 49.65 & 49.74 & 49.84 \\\\\n",
      "               State &              2.2 & 56.38 & 0.46 & 55.68 & 56.20 & 56.43 & 56.69 & 56.88 \\\\\n",
      "               State &              2.3 & 47.20 & 0.79 & 46.13 & 46.72 & 47.30 & 47.80 & 48.06 \\\\\n",
      "               State &              2.4 & 57.35 & 1.21 & 55.22 & 57.54 & 57.89 & 57.99 & 58.13 \\\\\n",
      "               State & 2.1 (fix labels) & 50.90 & 0.11 & 50.77 & 50.83 & 50.91 & 50.95 & 51.06 \\\\\n",
      "               State & 2.2 (fix labels) & 56.50 & 0.47 & 55.93 & 56.13 & 56.57 & 56.81 & 57.08 \\\\\n",
      "               State & 2.3 (fix labels) & 49.08 & 0.90 & 47.90 & 48.48 & 49.23 & 49.65 & 50.15 \\\\\n",
      "               State & 2.4 (fix labels) & 63.52 & 0.96 & 62.22 & 62.89 & 63.73 & 64.24 & 64.53 \\\\\n",
      "     4 Turns + State &              2.1 & 49.38 & 0.27 & 49.08 & 49.09 & 49.54 & 49.59 & 49.61 \\\\\n",
      "     4 Turns + State &              2.2 & 56.82 & 0.92 & 55.48 & 56.25 & 57.23 & 57.49 & 57.64 \\\\\n",
      "     4 Turns + State &              2.3 & 47.52 & 0.72 & 46.65 & 47.12 & 47.38 & 47.98 & 48.48 \\\\\n",
      "     4 Turns + State &              2.4 & 57.71 & 0.86 & 56.73 & 57.01 & 57.68 & 58.49 & 58.64 \\\\\n",
      "     4 Turns + State & 2.1 (fix labels) & 50.58 & 0.34 & 50.11 & 50.34 & 50.76 & 50.77 & 50.90 \\\\\n",
      "     4 Turns + State & 2.2 (fix labels) & 57.12 & 0.93 & 55.70 & 56.69 & 57.45 & 57.81 & 57.95 \\\\\n",
      "     4 Turns + State & 2.3 (fix labels) & 49.58 & 0.97 & 48.03 & 49.27 & 50.03 & 50.09 & 50.46 \\\\\n",
      "     4 Turns + State & 2.4 (fix labels) & 63.15 & 1.56 & 61.58 & 61.96 & 62.70 & 64.23 & 65.26 \\\\\n",
      "        Full-history &              2.1 & 48.74 & 0.20 & 48.48 & 48.67 & 48.67 & 48.91 & 48.98 \\\\\n",
      "        Full-history &              2.2 & 55.33 & 0.70 & 54.40 & 55.11 & 55.28 & 55.58 & 56.31 \\\\\n",
      "        Full-history &              2.3 & 47.46 & 0.24 & 47.18 & 47.35 & 47.35 & 47.65 & 47.78 \\\\\n",
      "        Full-history &              2.4 & 58.76 & 0.57 & 58.25 & 58.29 & 58.68 & 58.94 & 59.64 \\\\\n",
      "        Full-history & 2.1 (fix labels) & 50.00 & 0.14 & 49.81 & 49.88 & 50.08 & 50.08 & 50.14 \\\\\n",
      "        Full-history & 2.2 (fix labels) & 55.63 & 0.68 & 54.73 & 55.39 & 55.63 & 55.78 & 56.62 \\\\\n",
      "        Full-history & 2.3 (fix labels) & 49.31 & 0.26 & 49.09 & 49.13 & 49.21 & 49.40 & 49.72 \\\\\n",
      "        Full-history & 2.4 (fix labels) & 64.95 & 0.55 & 64.05 & 64.79 & 65.29 & 65.30 & 65.33 \\\\\n",
      "Full-history + State &              2.1 & 48.86 & 0.30 & 48.49 & 48.68 & 48.82 & 49.04 & 49.27 \\\\\n",
      "Full-history + State &              2.2 & 56.04 & 0.77 & 55.33 & 55.71 & 55.82 & 56.01 & 57.34 \\\\\n",
      "Full-history + State &              2.3 & 48.53 & 0.66 & 47.82 & 48.17 & 48.40 & 48.71 & 49.57 \\\\\n",
      "Full-history + State &              2.4 & 59.60 & 0.54 & 58.94 & 59.10 & 59.86 & 59.94 & 60.16 \\\\\n",
      "Full-history + State & 2.1 (fix labels) & 50.00 & 0.30 & 49.62 & 49.86 & 49.92 & 50.22 & 50.39 \\\\\n",
      "Full-history + State & 2.2 (fix labels) & 56.28 & 0.84 & 55.44 & 55.87 & 56.19 & 56.24 & 57.66 \\\\\n",
      "Full-history + State & 2.3 (fix labels) & 50.57 & 0.73 & 49.74 & 50.23 & 50.38 & 50.79 & 51.70 \\\\\n",
      "Full-history + State & 2.4 (fix labels) & 66.51 & 0.87 & 65.18 & 66.35 & 66.56 & 66.93 & 67.53 \\\\\n",
      "               State &              2.1 & 49.03 & 0.24 & 48.74 & 48.93 & 48.96 & 49.17 & 49.35 \\\\\n",
      "               State &              2.2 & 55.99 & 0.66 & 55.40 & 55.67 & 55.81 & 55.94 & 57.12 \\\\\n",
      "               State &              2.3 & 47.81 & 0.34 & 47.25 & 47.82 & 47.90 & 47.94 & 48.14 \\\\\n",
      "               State &              2.4 & 59.13 & 0.86 & 58.19 & 58.42 & 59.10 & 59.73 & 60.23 \\\\\n",
      "               State & 2.1 (fix labels) & 50.58 & 0.52 & 50.15 & 50.23 & 50.45 & 50.62 & 51.45 \\\\\n",
      "               State & 2.2 (fix labels) & 56.30 & 0.67 & 55.63 & 55.98 & 56.21 & 56.24 & 57.42 \\\\\n",
      "               State & 2.3 (fix labels) & 49.85 & 0.40 & 49.20 & 49.88 & 49.88 & 49.96 & 50.31 \\\\\n",
      "               State & 2.4 (fix labels) & 66.13 & 0.97 & 65.04 & 65.45 & 66.03 & 66.63 & 67.49 \\\\\n",
      "     4 Turns + State &              2.1 & 49.27 & 0.42 & 48.82 & 48.87 & 49.31 & 49.67 & 49.69 \\\\\n",
      "     4 Turns + State &              2.2 & 56.21 & 0.56 & 55.67 & 55.79 & 56.00 & 56.62 & 56.96 \\\\\n",
      "     4 Turns + State &              2.3 & 48.01 & 0.52 & 47.27 & 47.83 & 47.98 & 48.36 & 48.62 \\\\\n",
      "     4 Turns + State &              2.4 & 58.86 & 0.31 & 58.53 & 58.68 & 58.76 & 58.98 & 59.32 \\\\\n",
      "     4 Turns + State & 2.1 (fix labels) & 50.40 & 0.38 & 49.93 & 50.07 & 50.50 & 50.72 & 50.77 \\\\\n",
      "     4 Turns + State & 2.2 (fix labels) & 56.48 & 0.57 & 55.90 & 56.02 & 56.36 & 56.88 & 57.26 \\\\\n",
      "     4 Turns + State & 2.3 (fix labels) & 50.00 & 0.63 & 49.04 & 49.86 & 50.05 & 50.31 & 50.73 \\\\\n",
      "     4 Turns + State & 2.4 (fix labels) & 65.35 & 0.50 & 64.68 & 65.19 & 65.37 & 65.48 & 66.05 \\\\\n",
      "\\bottomrule\n",
      "\\end{tabular}\n",
      "\n"
     ]
    }
   ],
   "source": [
    "# full table\n",
    "print(all_results.reset_index().iloc[:, 1:].to_latex(index=False))"
   ]
  },
  {
   "cell_type": "code",
   "execution_count": 55,
   "metadata": {},
   "outputs": [
    {
     "data": {
      "text/html": [
       "<div>\n",
       "<style scoped>\n",
       "    .dataframe tbody tr th:only-of-type {\n",
       "        vertical-align: middle;\n",
       "    }\n",
       "\n",
       "    .dataframe tbody tr th {\n",
       "        vertical-align: top;\n",
       "    }\n",
       "\n",
       "    .dataframe thead th {\n",
       "        text-align: right;\n",
       "    }\n",
       "</style>\n",
       "<table border=\"1\" class=\"dataframe\">\n",
       "  <thead>\n",
       "    <tr style=\"text-align: right;\">\n",
       "      <th></th>\n",
       "      <th>State representation</th>\n",
       "      <th>Context</th>\n",
       "      <th>Dataset version</th>\n",
       "      <th>mean</th>\n",
       "      <th>std</th>\n",
       "      <th>min</th>\n",
       "      <th>25%</th>\n",
       "      <th>50%</th>\n",
       "      <th>75%</th>\n",
       "      <th>max</th>\n",
       "    </tr>\n",
       "  </thead>\n",
       "  <tbody>\n",
       "    <tr>\n",
       "      <th>4</th>\n",
       "      <td>Cumulative</td>\n",
       "      <td>Full-history</td>\n",
       "      <td>2.1</td>\n",
       "      <td>50.69</td>\n",
       "      <td>0.37</td>\n",
       "      <td>50.45</td>\n",
       "      <td>50.47</td>\n",
       "      <td>50.60</td>\n",
       "      <td>50.61</td>\n",
       "      <td>51.34</td>\n",
       "    </tr>\n",
       "    <tr>\n",
       "      <th>5</th>\n",
       "      <td>Cumulative</td>\n",
       "      <td>Full-history</td>\n",
       "      <td>2.2</td>\n",
       "      <td>57.01</td>\n",
       "      <td>0.45</td>\n",
       "      <td>56.43</td>\n",
       "      <td>56.81</td>\n",
       "      <td>56.89</td>\n",
       "      <td>57.42</td>\n",
       "      <td>57.51</td>\n",
       "    </tr>\n",
       "    <tr>\n",
       "      <th>6</th>\n",
       "      <td>Cumulative</td>\n",
       "      <td>Full-history</td>\n",
       "      <td>2.3</td>\n",
       "      <td>49.51</td>\n",
       "      <td>0.63</td>\n",
       "      <td>48.74</td>\n",
       "      <td>48.94</td>\n",
       "      <td>49.81</td>\n",
       "      <td>49.85</td>\n",
       "      <td>50.19</td>\n",
       "    </tr>\n",
       "    <tr>\n",
       "      <th>7</th>\n",
       "      <td>Cumulative</td>\n",
       "      <td>Full-history</td>\n",
       "      <td>2.4</td>\n",
       "      <td>63.11</td>\n",
       "      <td>0.83</td>\n",
       "      <td>61.98</td>\n",
       "      <td>62.89</td>\n",
       "      <td>63.13</td>\n",
       "      <td>63.27</td>\n",
       "      <td>64.30</td>\n",
       "    </tr>\n",
       "    <tr>\n",
       "      <th>12</th>\n",
       "      <td>Cumulative</td>\n",
       "      <td>Full-history + State</td>\n",
       "      <td>2.1</td>\n",
       "      <td>50.71</td>\n",
       "      <td>0.55</td>\n",
       "      <td>50.04</td>\n",
       "      <td>50.47</td>\n",
       "      <td>50.57</td>\n",
       "      <td>50.98</td>\n",
       "      <td>51.51</td>\n",
       "    </tr>\n",
       "    <tr>\n",
       "      <th>13</th>\n",
       "      <td>Cumulative</td>\n",
       "      <td>Full-history + State</td>\n",
       "      <td>2.2</td>\n",
       "      <td>56.89</td>\n",
       "      <td>0.57</td>\n",
       "      <td>56.19</td>\n",
       "      <td>56.65</td>\n",
       "      <td>56.67</td>\n",
       "      <td>57.33</td>\n",
       "      <td>57.60</td>\n",
       "    </tr>\n",
       "    <tr>\n",
       "      <th>14</th>\n",
       "      <td>Cumulative</td>\n",
       "      <td>Full-history + State</td>\n",
       "      <td>2.3</td>\n",
       "      <td>49.45</td>\n",
       "      <td>0.54</td>\n",
       "      <td>48.81</td>\n",
       "      <td>49.08</td>\n",
       "      <td>49.50</td>\n",
       "      <td>49.67</td>\n",
       "      <td>50.20</td>\n",
       "    </tr>\n",
       "    <tr>\n",
       "      <th>15</th>\n",
       "      <td>Cumulative</td>\n",
       "      <td>Full-history + State</td>\n",
       "      <td>2.4</td>\n",
       "      <td>63.27</td>\n",
       "      <td>0.68</td>\n",
       "      <td>62.11</td>\n",
       "      <td>63.27</td>\n",
       "      <td>63.48</td>\n",
       "      <td>63.74</td>\n",
       "      <td>63.75</td>\n",
       "    </tr>\n",
       "    <tr>\n",
       "      <th>20</th>\n",
       "      <td>Cumulative</td>\n",
       "      <td>State</td>\n",
       "      <td>2.1</td>\n",
       "      <td>50.90</td>\n",
       "      <td>0.11</td>\n",
       "      <td>50.77</td>\n",
       "      <td>50.83</td>\n",
       "      <td>50.91</td>\n",
       "      <td>50.95</td>\n",
       "      <td>51.06</td>\n",
       "    </tr>\n",
       "    <tr>\n",
       "      <th>21</th>\n",
       "      <td>Cumulative</td>\n",
       "      <td>State</td>\n",
       "      <td>2.2</td>\n",
       "      <td>56.50</td>\n",
       "      <td>0.47</td>\n",
       "      <td>55.93</td>\n",
       "      <td>56.13</td>\n",
       "      <td>56.57</td>\n",
       "      <td>56.81</td>\n",
       "      <td>57.08</td>\n",
       "    </tr>\n",
       "    <tr>\n",
       "      <th>22</th>\n",
       "      <td>Cumulative</td>\n",
       "      <td>State</td>\n",
       "      <td>2.3</td>\n",
       "      <td>49.08</td>\n",
       "      <td>0.90</td>\n",
       "      <td>47.90</td>\n",
       "      <td>48.48</td>\n",
       "      <td>49.23</td>\n",
       "      <td>49.65</td>\n",
       "      <td>50.15</td>\n",
       "    </tr>\n",
       "    <tr>\n",
       "      <th>23</th>\n",
       "      <td>Cumulative</td>\n",
       "      <td>State</td>\n",
       "      <td>2.4</td>\n",
       "      <td>63.52</td>\n",
       "      <td>0.96</td>\n",
       "      <td>62.22</td>\n",
       "      <td>62.89</td>\n",
       "      <td>63.73</td>\n",
       "      <td>64.24</td>\n",
       "      <td>64.53</td>\n",
       "    </tr>\n",
       "    <tr>\n",
       "      <th>28</th>\n",
       "      <td>Cumulative</td>\n",
       "      <td>4 Turns + State</td>\n",
       "      <td>2.1</td>\n",
       "      <td>50.58</td>\n",
       "      <td>0.34</td>\n",
       "      <td>50.11</td>\n",
       "      <td>50.34</td>\n",
       "      <td>50.76</td>\n",
       "      <td>50.77</td>\n",
       "      <td>50.90</td>\n",
       "    </tr>\n",
       "    <tr>\n",
       "      <th>29</th>\n",
       "      <td>Cumulative</td>\n",
       "      <td>4 Turns + State</td>\n",
       "      <td>2.2</td>\n",
       "      <td>57.12</td>\n",
       "      <td>0.93</td>\n",
       "      <td>55.70</td>\n",
       "      <td>56.69</td>\n",
       "      <td>57.45</td>\n",
       "      <td>57.81</td>\n",
       "      <td>57.95</td>\n",
       "    </tr>\n",
       "    <tr>\n",
       "      <th>30</th>\n",
       "      <td>Cumulative</td>\n",
       "      <td>4 Turns + State</td>\n",
       "      <td>2.3</td>\n",
       "      <td>49.58</td>\n",
       "      <td>0.97</td>\n",
       "      <td>48.03</td>\n",
       "      <td>49.27</td>\n",
       "      <td>50.03</td>\n",
       "      <td>50.09</td>\n",
       "      <td>50.46</td>\n",
       "    </tr>\n",
       "    <tr>\n",
       "      <th>31</th>\n",
       "      <td>Cumulative</td>\n",
       "      <td>4 Turns + State</td>\n",
       "      <td>2.4</td>\n",
       "      <td>63.15</td>\n",
       "      <td>1.56</td>\n",
       "      <td>61.58</td>\n",
       "      <td>61.96</td>\n",
       "      <td>62.70</td>\n",
       "      <td>64.23</td>\n",
       "      <td>65.26</td>\n",
       "    </tr>\n",
       "    <tr>\n",
       "      <th>36</th>\n",
       "      <td>Operations</td>\n",
       "      <td>Full-history</td>\n",
       "      <td>2.1</td>\n",
       "      <td>50.00</td>\n",
       "      <td>0.14</td>\n",
       "      <td>49.81</td>\n",
       "      <td>49.88</td>\n",
       "      <td>50.08</td>\n",
       "      <td>50.08</td>\n",
       "      <td>50.14</td>\n",
       "    </tr>\n",
       "    <tr>\n",
       "      <th>37</th>\n",
       "      <td>Operations</td>\n",
       "      <td>Full-history</td>\n",
       "      <td>2.2</td>\n",
       "      <td>55.63</td>\n",
       "      <td>0.68</td>\n",
       "      <td>54.73</td>\n",
       "      <td>55.39</td>\n",
       "      <td>55.63</td>\n",
       "      <td>55.78</td>\n",
       "      <td>56.62</td>\n",
       "    </tr>\n",
       "    <tr>\n",
       "      <th>38</th>\n",
       "      <td>Operations</td>\n",
       "      <td>Full-history</td>\n",
       "      <td>2.3</td>\n",
       "      <td>49.31</td>\n",
       "      <td>0.26</td>\n",
       "      <td>49.09</td>\n",
       "      <td>49.13</td>\n",
       "      <td>49.21</td>\n",
       "      <td>49.40</td>\n",
       "      <td>49.72</td>\n",
       "    </tr>\n",
       "    <tr>\n",
       "      <th>39</th>\n",
       "      <td>Operations</td>\n",
       "      <td>Full-history</td>\n",
       "      <td>2.4</td>\n",
       "      <td>64.95</td>\n",
       "      <td>0.55</td>\n",
       "      <td>64.05</td>\n",
       "      <td>64.79</td>\n",
       "      <td>65.29</td>\n",
       "      <td>65.30</td>\n",
       "      <td>65.33</td>\n",
       "    </tr>\n",
       "    <tr>\n",
       "      <th>44</th>\n",
       "      <td>Operations</td>\n",
       "      <td>Full-history + State</td>\n",
       "      <td>2.1</td>\n",
       "      <td>50.00</td>\n",
       "      <td>0.30</td>\n",
       "      <td>49.62</td>\n",
       "      <td>49.86</td>\n",
       "      <td>49.92</td>\n",
       "      <td>50.22</td>\n",
       "      <td>50.39</td>\n",
       "    </tr>\n",
       "    <tr>\n",
       "      <th>45</th>\n",
       "      <td>Operations</td>\n",
       "      <td>Full-history + State</td>\n",
       "      <td>2.2</td>\n",
       "      <td>56.28</td>\n",
       "      <td>0.84</td>\n",
       "      <td>55.44</td>\n",
       "      <td>55.87</td>\n",
       "      <td>56.19</td>\n",
       "      <td>56.24</td>\n",
       "      <td>57.66</td>\n",
       "    </tr>\n",
       "    <tr>\n",
       "      <th>46</th>\n",
       "      <td>Operations</td>\n",
       "      <td>Full-history + State</td>\n",
       "      <td>2.3</td>\n",
       "      <td>50.57</td>\n",
       "      <td>0.73</td>\n",
       "      <td>49.74</td>\n",
       "      <td>50.23</td>\n",
       "      <td>50.38</td>\n",
       "      <td>50.79</td>\n",
       "      <td>51.70</td>\n",
       "    </tr>\n",
       "    <tr>\n",
       "      <th>47</th>\n",
       "      <td>Operations</td>\n",
       "      <td>Full-history + State</td>\n",
       "      <td>2.4</td>\n",
       "      <td>66.51</td>\n",
       "      <td>0.87</td>\n",
       "      <td>65.18</td>\n",
       "      <td>66.35</td>\n",
       "      <td>66.56</td>\n",
       "      <td>66.93</td>\n",
       "      <td>67.53</td>\n",
       "    </tr>\n",
       "    <tr>\n",
       "      <th>52</th>\n",
       "      <td>Operations</td>\n",
       "      <td>State</td>\n",
       "      <td>2.1</td>\n",
       "      <td>50.58</td>\n",
       "      <td>0.52</td>\n",
       "      <td>50.15</td>\n",
       "      <td>50.23</td>\n",
       "      <td>50.45</td>\n",
       "      <td>50.62</td>\n",
       "      <td>51.45</td>\n",
       "    </tr>\n",
       "    <tr>\n",
       "      <th>53</th>\n",
       "      <td>Operations</td>\n",
       "      <td>State</td>\n",
       "      <td>2.2</td>\n",
       "      <td>56.30</td>\n",
       "      <td>0.67</td>\n",
       "      <td>55.63</td>\n",
       "      <td>55.98</td>\n",
       "      <td>56.21</td>\n",
       "      <td>56.24</td>\n",
       "      <td>57.42</td>\n",
       "    </tr>\n",
       "    <tr>\n",
       "      <th>54</th>\n",
       "      <td>Operations</td>\n",
       "      <td>State</td>\n",
       "      <td>2.3</td>\n",
       "      <td>49.85</td>\n",
       "      <td>0.40</td>\n",
       "      <td>49.20</td>\n",
       "      <td>49.88</td>\n",
       "      <td>49.88</td>\n",
       "      <td>49.96</td>\n",
       "      <td>50.31</td>\n",
       "    </tr>\n",
       "    <tr>\n",
       "      <th>55</th>\n",
       "      <td>Operations</td>\n",
       "      <td>State</td>\n",
       "      <td>2.4</td>\n",
       "      <td>66.13</td>\n",
       "      <td>0.97</td>\n",
       "      <td>65.04</td>\n",
       "      <td>65.45</td>\n",
       "      <td>66.03</td>\n",
       "      <td>66.63</td>\n",
       "      <td>67.49</td>\n",
       "    </tr>\n",
       "    <tr>\n",
       "      <th>60</th>\n",
       "      <td>Operations</td>\n",
       "      <td>4 Turns + State</td>\n",
       "      <td>2.1</td>\n",
       "      <td>50.40</td>\n",
       "      <td>0.38</td>\n",
       "      <td>49.93</td>\n",
       "      <td>50.07</td>\n",
       "      <td>50.50</td>\n",
       "      <td>50.72</td>\n",
       "      <td>50.77</td>\n",
       "    </tr>\n",
       "    <tr>\n",
       "      <th>61</th>\n",
       "      <td>Operations</td>\n",
       "      <td>4 Turns + State</td>\n",
       "      <td>2.2</td>\n",
       "      <td>56.48</td>\n",
       "      <td>0.57</td>\n",
       "      <td>55.90</td>\n",
       "      <td>56.02</td>\n",
       "      <td>56.36</td>\n",
       "      <td>56.88</td>\n",
       "      <td>57.26</td>\n",
       "    </tr>\n",
       "    <tr>\n",
       "      <th>62</th>\n",
       "      <td>Operations</td>\n",
       "      <td>4 Turns + State</td>\n",
       "      <td>2.3</td>\n",
       "      <td>50.00</td>\n",
       "      <td>0.63</td>\n",
       "      <td>49.04</td>\n",
       "      <td>49.86</td>\n",
       "      <td>50.05</td>\n",
       "      <td>50.31</td>\n",
       "      <td>50.73</td>\n",
       "    </tr>\n",
       "    <tr>\n",
       "      <th>63</th>\n",
       "      <td>Operations</td>\n",
       "      <td>4 Turns + State</td>\n",
       "      <td>2.4</td>\n",
       "      <td>65.35</td>\n",
       "      <td>0.50</td>\n",
       "      <td>64.68</td>\n",
       "      <td>65.19</td>\n",
       "      <td>65.37</td>\n",
       "      <td>65.48</td>\n",
       "      <td>66.05</td>\n",
       "    </tr>\n",
       "  </tbody>\n",
       "</table>\n",
       "</div>"
      ],
      "text/plain": [
       "   State representation               Context Dataset version   mean   std  \\\n",
       "4            Cumulative          Full-history             2.1  50.69  0.37   \n",
       "5            Cumulative          Full-history             2.2  57.01  0.45   \n",
       "6            Cumulative          Full-history             2.3  49.51  0.63   \n",
       "7            Cumulative          Full-history             2.4  63.11  0.83   \n",
       "12           Cumulative  Full-history + State             2.1  50.71  0.55   \n",
       "13           Cumulative  Full-history + State             2.2  56.89  0.57   \n",
       "14           Cumulative  Full-history + State             2.3  49.45  0.54   \n",
       "15           Cumulative  Full-history + State             2.4  63.27  0.68   \n",
       "20           Cumulative                 State             2.1  50.90  0.11   \n",
       "21           Cumulative                 State             2.2  56.50  0.47   \n",
       "22           Cumulative                 State             2.3  49.08  0.90   \n",
       "23           Cumulative                 State             2.4  63.52  0.96   \n",
       "28           Cumulative       4 Turns + State             2.1  50.58  0.34   \n",
       "29           Cumulative       4 Turns + State             2.2  57.12  0.93   \n",
       "30           Cumulative       4 Turns + State             2.3  49.58  0.97   \n",
       "31           Cumulative       4 Turns + State             2.4  63.15  1.56   \n",
       "36           Operations          Full-history             2.1  50.00  0.14   \n",
       "37           Operations          Full-history             2.2  55.63  0.68   \n",
       "38           Operations          Full-history             2.3  49.31  0.26   \n",
       "39           Operations          Full-history             2.4  64.95  0.55   \n",
       "44           Operations  Full-history + State             2.1  50.00  0.30   \n",
       "45           Operations  Full-history + State             2.2  56.28  0.84   \n",
       "46           Operations  Full-history + State             2.3  50.57  0.73   \n",
       "47           Operations  Full-history + State             2.4  66.51  0.87   \n",
       "52           Operations                 State             2.1  50.58  0.52   \n",
       "53           Operations                 State             2.2  56.30  0.67   \n",
       "54           Operations                 State             2.3  49.85  0.40   \n",
       "55           Operations                 State             2.4  66.13  0.97   \n",
       "60           Operations       4 Turns + State             2.1  50.40  0.38   \n",
       "61           Operations       4 Turns + State             2.2  56.48  0.57   \n",
       "62           Operations       4 Turns + State             2.3  50.00  0.63   \n",
       "63           Operations       4 Turns + State             2.4  65.35  0.50   \n",
       "\n",
       "      min    25%    50%    75%    max  \n",
       "4   50.45  50.47  50.60  50.61  51.34  \n",
       "5   56.43  56.81  56.89  57.42  57.51  \n",
       "6   48.74  48.94  49.81  49.85  50.19  \n",
       "7   61.98  62.89  63.13  63.27  64.30  \n",
       "12  50.04  50.47  50.57  50.98  51.51  \n",
       "13  56.19  56.65  56.67  57.33  57.60  \n",
       "14  48.81  49.08  49.50  49.67  50.20  \n",
       "15  62.11  63.27  63.48  63.74  63.75  \n",
       "20  50.77  50.83  50.91  50.95  51.06  \n",
       "21  55.93  56.13  56.57  56.81  57.08  \n",
       "22  47.90  48.48  49.23  49.65  50.15  \n",
       "23  62.22  62.89  63.73  64.24  64.53  \n",
       "28  50.11  50.34  50.76  50.77  50.90  \n",
       "29  55.70  56.69  57.45  57.81  57.95  \n",
       "30  48.03  49.27  50.03  50.09  50.46  \n",
       "31  61.58  61.96  62.70  64.23  65.26  \n",
       "36  49.81  49.88  50.08  50.08  50.14  \n",
       "37  54.73  55.39  55.63  55.78  56.62  \n",
       "38  49.09  49.13  49.21  49.40  49.72  \n",
       "39  64.05  64.79  65.29  65.30  65.33  \n",
       "44  49.62  49.86  49.92  50.22  50.39  \n",
       "45  55.44  55.87  56.19  56.24  57.66  \n",
       "46  49.74  50.23  50.38  50.79  51.70  \n",
       "47  65.18  66.35  66.56  66.93  67.53  \n",
       "52  50.15  50.23  50.45  50.62  51.45  \n",
       "53  55.63  55.98  56.21  56.24  57.42  \n",
       "54  49.20  49.88  49.88  49.96  50.31  \n",
       "55  65.04  65.45  66.03  66.63  67.49  \n",
       "60  49.93  50.07  50.50  50.72  50.77  \n",
       "61  55.90  56.02  56.36  56.88  57.26  \n",
       "62  49.04  49.86  50.05  50.31  50.73  \n",
       "63  64.68  65.19  65.37  65.48  66.05  "
      ]
     },
     "execution_count": 55,
     "metadata": {},
     "output_type": "execute_result"
    }
   ],
   "source": [
    "exp1_table = all_results.reset_index()\n",
    "exp1_table = exp1_table.loc[exp1_table[\"Dataset version\"].str.contains(\"fix\")].assign(\n",
    "    **{\n",
    "        \"Dataset version\": lambda df_: df_[\"Dataset version\"].str.rstrip(\"(fix labels)\").str.strip(),\n",
    "    }\n",
    ")\n",
    "exp1_table"
   ]
  },
  {
   "cell_type": "markdown",
   "metadata": {},
   "source": [
    "---"
   ]
  },
  {
   "cell_type": "code",
   "execution_count": 49,
   "metadata": {},
   "outputs": [
    {
     "name": "stdout",
     "output_type": "stream",
     "text": [
      "\\begin{tabular}{llr}\n",
      "\\toprule\n",
      "                 exp &     metric\\_name &      mean \\\\\n",
      "\\midrule\n",
      "cum\\_fullhist+nostate &     jga\\_turn\\_21 & 51.058058 \\\\\n",
      "cum\\_fullhist+nostate &     jga\\_turn\\_22 & 57.297884 \\\\\n",
      "cum\\_fullhist+nostate &     jga\\_turn\\_23 & 48.209441 \\\\\n",
      "cum\\_fullhist+nostate &     jga\\_turn\\_24 & 58.518719 \\\\\n",
      "cum\\_fullhist+nostate & new\\_jga\\_turn\\_21 & 51.939772 \\\\\n",
      "cum\\_fullhist+nostate & new\\_jga\\_turn\\_22 & 57.365708 \\\\\n",
      "cum\\_fullhist+nostate & new\\_jga\\_turn\\_23 & 49.769398 \\\\\n",
      "cum\\_fullhist+nostate & new\\_jga\\_turn\\_24 & 65.816603 \\\\\n",
      "ops\\_partialhist+prev &     jga\\_turn\\_21 & 49.864352 \\\\\n",
      "ops\\_partialhist+prev &     jga\\_turn\\_22 & 56.429734 \\\\\n",
      "ops\\_partialhist+prev &     jga\\_turn\\_23 & 47.843190 \\\\\n",
      "ops\\_partialhist+prev &     jga\\_turn\\_24 & 58.003256 \\\\\n",
      "ops\\_partialhist+prev & new\\_jga\\_turn\\_21 & 50.922409 \\\\\n",
      "ops\\_partialhist+prev & new\\_jga\\_turn\\_22 & 56.741725 \\\\\n",
      "ops\\_partialhist+prev & new\\_jga\\_turn\\_23 & 49.701574 \\\\\n",
      "ops\\_partialhist+prev & new\\_jga\\_turn\\_24 & 65.016278 \\\\\n",
      "\\bottomrule\n",
      "\\end{tabular}\n",
      "\n"
     ]
    }
   ],
   "source": [
    "print(\n",
    "    validation_results.loc[\n",
    "        (validation_results[\"size\"] == \"large\") & (validation_results[\"split\"] == \"test\"),\n",
    "        [\"exp\", \"metric_name\", \"mean\"],\n",
    "    ].to_latex(index=False)\n",
    ")"
   ]
  },
  {
   "cell_type": "code",
   "execution_count": 59,
   "metadata": {},
   "outputs": [
    {
     "data": {
      "application/vnd.jupyter.widget-view+json": {
       "model_id": "c11b3539796640ebab70cf3e201b8da4",
       "version_major": 2,
       "version_minor": 0
      },
      "text/plain": [
       "Pandas Apply:   0%|          | 0/14251996 [00:00<?, ?it/s]"
      ]
     },
     "metadata": {},
     "output_type": "display_data"
    },
    {
     "data": {
      "application/vnd.jupyter.widget-view+json": {
       "model_id": "9b823891738341eeab211a9a102e4b82",
       "version_major": 2,
       "version_minor": 0
      },
      "text/plain": [
       "Pandas Apply:   0%|          | 0/14251996 [00:00<?, ?it/s]"
      ]
     },
     "metadata": {},
     "output_type": "display_data"
    }
   ],
   "source": [
    "pred_df[\"domain\"] = pred_df[\"states\"].swifter.apply(extract_domains)\n",
    "pred_df[\"slots\"] = pred_df[\"states\"].swifter.apply(extract_slots)"
   ]
  },
  {
   "cell_type": "code",
   "execution_count": 79,
   "metadata": {},
   "outputs": [],
   "source": [
    "val = []\n",
    "for col in eval_cols:\n",
    "    val_best_ids = results.groupby(index_cols[:-1])[col].idxmax().reset_index()\n",
    "    val_best_ids = val_best_ids.loc[val_best_ids[\"split\"] == \"validation\"].assign(\n",
    "        best_ckpt=lambda df_: df_[col].map(lambda ex: (ex[0], ex[1], ex[3], ex[4]))\n",
    "    )\n",
    "    dd = results.loc[results.index.droplevel(\"split\").isin(val_best_ids[\"best_ckpt\"]), [col]].assign(\n",
    "        metric_name=col, metric=lambda df_: df_[col] * 100\n",
    "    )[[\"metric_name\", \"metric\"]]\n",
    "\n",
    "    val.append(dd)\n",
    "\n",
    "val = pd.concat(val).reset_index()\n",
    "val[\"exp\"] = val[\"model\"].str.split(\"_\").map(lambda ex: f\"{ex[1]}_{ex[2]}\")\n",
    "val = val.loc[(val[\"split\"] == \"test\") & (val[\"size\"] == \"base\") & (val[\"version\"] == \"v0\")]\n",
    "val[\"id\"] = val[\"model\"] + \"+\" + val[\"version\"] + \"+\" + val[\"epoch\"].astype(str)"
   ]
  },
  {
   "cell_type": "code",
   "execution_count": 78,
   "metadata": {},
   "outputs": [],
   "source": [
    "pred_df[\"id\"] = pred_df[\"model\"] + \"+\" + pred_df[\"version\"] + \"+\" + pred_df[\"epoch\"].astype(str)"
   ]
  },
  {
   "cell_type": "code",
   "execution_count": 80,
   "metadata": {},
   "outputs": [],
   "source": [
    "best = pred_df.loc[pred_df[\"id\"].isin(val[\"id\"])]"
   ]
  },
  {
   "cell_type": "code",
   "execution_count": 82,
   "metadata": {},
   "outputs": [],
   "source": [
    "domain = best.explode(\"domain\")"
   ]
  },
  {
   "cell_type": "code",
   "execution_count": 120,
   "metadata": {},
   "outputs": [],
   "source": [
    "results_domain = domain.groupby(index_cols + [\"domain\"])[eval_cols].mean()\n",
    "results_domain = results_domain.loc[results_domain.index.get_level_values(\"split\") == \"test\"]\n",
    "results_domain = results_domain.reset_index()\n",
    "results_domain[\"exp\"] = results_domain[\"model\"].str.split(\"_\").map(lambda ex: f\"{ex[1]}_{ex[2]}\")\n",
    "results_domain = results_domain.groupby([\"exp\", \"domain\"])[eval_cols].describe().stack(0)\n",
    "results_domain = results_domain.reset_index().rename(columns={\"level_2\": \"metric_name\"})"
   ]
  },
  {
   "cell_type": "code",
   "execution_count": 130,
   "metadata": {},
   "outputs": [
    {
     "data": {
      "text/html": [
       "<div>\n",
       "<style scoped>\n",
       "    .dataframe tbody tr th:only-of-type {\n",
       "        vertical-align: middle;\n",
       "    }\n",
       "\n",
       "    .dataframe tbody tr th {\n",
       "        vertical-align: top;\n",
       "    }\n",
       "\n",
       "    .dataframe thead th {\n",
       "        text-align: right;\n",
       "    }\n",
       "</style>\n",
       "<table border=\"1\" class=\"dataframe\">\n",
       "  <thead>\n",
       "    <tr style=\"text-align: right;\">\n",
       "      <th></th>\n",
       "      <th></th>\n",
       "      <th></th>\n",
       "      <th>mean</th>\n",
       "      <th>std</th>\n",
       "      <th>min</th>\n",
       "      <th>25%</th>\n",
       "      <th>50%</th>\n",
       "      <th>75%</th>\n",
       "      <th>max</th>\n",
       "    </tr>\n",
       "    <tr>\n",
       "      <th>exp</th>\n",
       "      <th>domain</th>\n",
       "      <th>metric_name</th>\n",
       "      <th></th>\n",
       "      <th></th>\n",
       "      <th></th>\n",
       "      <th></th>\n",
       "      <th></th>\n",
       "      <th></th>\n",
       "      <th></th>\n",
       "    </tr>\n",
       "  </thead>\n",
       "  <tbody>\n",
       "    <tr>\n",
       "      <th rowspan=\"5\" valign=\"top\">cum_fullhist+nostate</th>\n",
       "      <th rowspan=\"2\" valign=\"top\">attraction</th>\n",
       "      <th>new_jga_turn_22</th>\n",
       "      <td>0.504243</td>\n",
       "      <td>0.007214</td>\n",
       "      <td>0.494210</td>\n",
       "      <td>0.498604</td>\n",
       "      <td>0.502585</td>\n",
       "      <td>0.508680</td>\n",
       "      <td>0.518152</td>\n",
       "    </tr>\n",
       "    <tr>\n",
       "      <th>new_jga_turn_24</th>\n",
       "      <td>0.582955</td>\n",
       "      <td>0.023106</td>\n",
       "      <td>0.535980</td>\n",
       "      <td>0.573464</td>\n",
       "      <td>0.584605</td>\n",
       "      <td>0.597156</td>\n",
       "      <td>0.618280</td>\n",
       "    </tr>\n",
       "    <tr>\n",
       "      <th rowspan=\"2\" valign=\"top\">hotel</th>\n",
       "      <th>new_jga_turn_22</th>\n",
       "      <td>0.398062</td>\n",
       "      <td>0.009949</td>\n",
       "      <td>0.382136</td>\n",
       "      <td>0.389927</td>\n",
       "      <td>0.399691</td>\n",
       "      <td>0.402477</td>\n",
       "      <td>0.415277</td>\n",
       "    </tr>\n",
       "    <tr>\n",
       "      <th>new_jga_turn_24</th>\n",
       "      <td>0.437193</td>\n",
       "      <td>0.025453</td>\n",
       "      <td>0.393704</td>\n",
       "      <td>0.425919</td>\n",
       "      <td>0.441023</td>\n",
       "      <td>0.450499</td>\n",
       "      <td>0.483359</td>\n",
       "    </tr>\n",
       "    <tr>\n",
       "      <th>restaurant</th>\n",
       "      <th>new_jga_turn_22</th>\n",
       "      <td>0.543266</td>\n",
       "      <td>0.006537</td>\n",
       "      <td>0.530856</td>\n",
       "      <td>0.539142</td>\n",
       "      <td>0.542748</td>\n",
       "      <td>0.547721</td>\n",
       "      <td>0.552715</td>\n",
       "    </tr>\n",
       "    <tr>\n",
       "      <th>...</th>\n",
       "      <th>...</th>\n",
       "      <th>...</th>\n",
       "      <td>...</td>\n",
       "      <td>...</td>\n",
       "      <td>...</td>\n",
       "      <td>...</td>\n",
       "      <td>...</td>\n",
       "      <td>...</td>\n",
       "      <td>...</td>\n",
       "    </tr>\n",
       "    <tr>\n",
       "      <th rowspan=\"5\" valign=\"top\">ops_partialhist+prev</th>\n",
       "      <th>restaurant</th>\n",
       "      <th>new_jga_turn_24</th>\n",
       "      <td>0.626825</td>\n",
       "      <td>0.014651</td>\n",
       "      <td>0.598258</td>\n",
       "      <td>0.619059</td>\n",
       "      <td>0.630791</td>\n",
       "      <td>0.633845</td>\n",
       "      <td>0.648310</td>\n",
       "    </tr>\n",
       "    <tr>\n",
       "      <th rowspan=\"2\" valign=\"top\">taxi</th>\n",
       "      <th>new_jga_turn_22</th>\n",
       "      <td>0.425136</td>\n",
       "      <td>0.014837</td>\n",
       "      <td>0.387247</td>\n",
       "      <td>0.419382</td>\n",
       "      <td>0.427907</td>\n",
       "      <td>0.434867</td>\n",
       "      <td>0.444618</td>\n",
       "    </tr>\n",
       "    <tr>\n",
       "      <th>new_jga_turn_24</th>\n",
       "      <td>0.399982</td>\n",
       "      <td>0.025611</td>\n",
       "      <td>0.337481</td>\n",
       "      <td>0.388146</td>\n",
       "      <td>0.407752</td>\n",
       "      <td>0.421618</td>\n",
       "      <td>0.428351</td>\n",
       "    </tr>\n",
       "    <tr>\n",
       "      <th rowspan=\"2\" valign=\"top\">train</th>\n",
       "      <th>new_jga_turn_22</th>\n",
       "      <td>0.540713</td>\n",
       "      <td>0.009756</td>\n",
       "      <td>0.522136</td>\n",
       "      <td>0.535184</td>\n",
       "      <td>0.540989</td>\n",
       "      <td>0.545393</td>\n",
       "      <td>0.555217</td>\n",
       "    </tr>\n",
       "    <tr>\n",
       "      <th>new_jga_turn_24</th>\n",
       "      <td>0.645626</td>\n",
       "      <td>0.013657</td>\n",
       "      <td>0.619031</td>\n",
       "      <td>0.637532</td>\n",
       "      <td>0.646721</td>\n",
       "      <td>0.655276</td>\n",
       "      <td>0.664973</td>\n",
       "    </tr>\n",
       "  </tbody>\n",
       "</table>\n",
       "<p>80 rows × 7 columns</p>\n",
       "</div>"
      ],
      "text/plain": [
       "                                                     mean       std       min  \\\n",
       "exp                  domain     metric_name                                     \n",
       "cum_fullhist+nostate attraction new_jga_turn_22  0.504243  0.007214  0.494210   \n",
       "                                new_jga_turn_24  0.582955  0.023106  0.535980   \n",
       "                     hotel      new_jga_turn_22  0.398062  0.009949  0.382136   \n",
       "                                new_jga_turn_24  0.437193  0.025453  0.393704   \n",
       "                     restaurant new_jga_turn_22  0.543266  0.006537  0.530856   \n",
       "...                                                   ...       ...       ...   \n",
       "ops_partialhist+prev restaurant new_jga_turn_24  0.626825  0.014651  0.598258   \n",
       "                     taxi       new_jga_turn_22  0.425136  0.014837  0.387247   \n",
       "                                new_jga_turn_24  0.399982  0.025611  0.337481   \n",
       "                     train      new_jga_turn_22  0.540713  0.009756  0.522136   \n",
       "                                new_jga_turn_24  0.645626  0.013657  0.619031   \n",
       "\n",
       "                                                      25%       50%       75%  \\\n",
       "exp                  domain     metric_name                                     \n",
       "cum_fullhist+nostate attraction new_jga_turn_22  0.498604  0.502585  0.508680   \n",
       "                                new_jga_turn_24  0.573464  0.584605  0.597156   \n",
       "                     hotel      new_jga_turn_22  0.389927  0.399691  0.402477   \n",
       "                                new_jga_turn_24  0.425919  0.441023  0.450499   \n",
       "                     restaurant new_jga_turn_22  0.539142  0.542748  0.547721   \n",
       "...                                                   ...       ...       ...   \n",
       "ops_partialhist+prev restaurant new_jga_turn_24  0.619059  0.630791  0.633845   \n",
       "                     taxi       new_jga_turn_22  0.419382  0.427907  0.434867   \n",
       "                                new_jga_turn_24  0.388146  0.407752  0.421618   \n",
       "                     train      new_jga_turn_22  0.535184  0.540989  0.545393   \n",
       "                                new_jga_turn_24  0.637532  0.646721  0.655276   \n",
       "\n",
       "                                                      max  \n",
       "exp                  domain     metric_name                \n",
       "cum_fullhist+nostate attraction new_jga_turn_22  0.518152  \n",
       "                                new_jga_turn_24  0.618280  \n",
       "                     hotel      new_jga_turn_22  0.415277  \n",
       "                                new_jga_turn_24  0.483359  \n",
       "                     restaurant new_jga_turn_22  0.552715  \n",
       "...                                                   ...  \n",
       "ops_partialhist+prev restaurant new_jga_turn_24  0.648310  \n",
       "                     taxi       new_jga_turn_22  0.444618  \n",
       "                                new_jga_turn_24  0.428351  \n",
       "                     train      new_jga_turn_22  0.555217  \n",
       "                                new_jga_turn_24  0.664973  \n",
       "\n",
       "[80 rows x 7 columns]"
      ]
     },
     "execution_count": 130,
     "metadata": {},
     "output_type": "execute_result"
    }
   ],
   "source": [
    "results_domain.loc[(results_domain[\"metric_name\"].isin([\"new_jga_turn_22\", \"new_jga_turn_24\"])),].set_index(\n",
    "    [\"exp\", \"domain\", \"metric_name\"]\n",
    ")[[\"mean\", \"std\", \"min\", \"25%\", \"50%\", \"75%\", \"max\"]]"
   ]
  },
  {
   "cell_type": "code",
   "execution_count": 102,
   "metadata": {},
   "outputs": [],
   "source": []
  },
  {
   "cell_type": "code",
   "execution_count": 108,
   "metadata": {},
   "outputs": [
    {
     "data": {
      "text/html": [
       "<div>\n",
       "<style scoped>\n",
       "    .dataframe tbody tr th:only-of-type {\n",
       "        vertical-align: middle;\n",
       "    }\n",
       "\n",
       "    .dataframe tbody tr th {\n",
       "        vertical-align: top;\n",
       "    }\n",
       "\n",
       "    .dataframe thead th {\n",
       "        text-align: right;\n",
       "    }\n",
       "</style>\n",
       "<table border=\"1\" class=\"dataframe\">\n",
       "  <thead>\n",
       "    <tr style=\"text-align: right;\">\n",
       "      <th></th>\n",
       "      <th>exp</th>\n",
       "      <th>domain</th>\n",
       "      <th>mean</th>\n",
       "      <th>std</th>\n",
       "    </tr>\n",
       "  </thead>\n",
       "  <tbody>\n",
       "    <tr>\n",
       "      <th>0</th>\n",
       "      <td>cum_fullhist+nostate</td>\n",
       "      <td>attraction</td>\n",
       "      <td>0.413930</td>\n",
       "      <td>0.007095</td>\n",
       "    </tr>\n",
       "    <tr>\n",
       "      <th>1</th>\n",
       "      <td>cum_fullhist+nostate</td>\n",
       "      <td>attraction</td>\n",
       "      <td>0.500851</td>\n",
       "      <td>0.007243</td>\n",
       "    </tr>\n",
       "    <tr>\n",
       "      <th>2</th>\n",
       "      <td>cum_fullhist+nostate</td>\n",
       "      <td>attraction</td>\n",
       "      <td>0.370806</td>\n",
       "      <td>0.009352</td>\n",
       "    </tr>\n",
       "    <tr>\n",
       "      <th>3</th>\n",
       "      <td>cum_fullhist+nostate</td>\n",
       "      <td>attraction</td>\n",
       "      <td>0.530398</td>\n",
       "      <td>0.018316</td>\n",
       "    </tr>\n",
       "    <tr>\n",
       "      <th>4</th>\n",
       "      <td>cum_fullhist+nostate</td>\n",
       "      <td>attraction</td>\n",
       "      <td>0.438027</td>\n",
       "      <td>0.007722</td>\n",
       "    </tr>\n",
       "    <tr>\n",
       "      <th>...</th>\n",
       "      <td>...</td>\n",
       "      <td>...</td>\n",
       "      <td>...</td>\n",
       "      <td>...</td>\n",
       "    </tr>\n",
       "    <tr>\n",
       "      <th>275</th>\n",
       "      <td>ops_nohist+prev</td>\n",
       "      <td>train</td>\n",
       "      <td>0.614188</td>\n",
       "      <td>0.012501</td>\n",
       "    </tr>\n",
       "    <tr>\n",
       "      <th>276</th>\n",
       "      <td>ops_nohist+prev</td>\n",
       "      <td>train</td>\n",
       "      <td>0.467423</td>\n",
       "      <td>0.006496</td>\n",
       "    </tr>\n",
       "    <tr>\n",
       "      <th>277</th>\n",
       "      <td>ops_nohist+prev</td>\n",
       "      <td>train</td>\n",
       "      <td>0.538241</td>\n",
       "      <td>0.007788</td>\n",
       "    </tr>\n",
       "    <tr>\n",
       "      <th>278</th>\n",
       "      <td>ops_nohist+prev</td>\n",
       "      <td>train</td>\n",
       "      <td>0.453017</td>\n",
       "      <td>0.005484</td>\n",
       "    </tr>\n",
       "    <tr>\n",
       "      <th>279</th>\n",
       "      <td>ops_nohist+prev</td>\n",
       "      <td>train</td>\n",
       "      <td>0.648333</td>\n",
       "      <td>0.013629</td>\n",
       "    </tr>\n",
       "  </tbody>\n",
       "</table>\n",
       "<p>80 rows × 4 columns</p>\n",
       "</div>"
      ],
      "text/plain": [
       "                      exp      domain      mean       std\n",
       "0    cum_fullhist+nostate  attraction  0.413930  0.007095\n",
       "1    cum_fullhist+nostate  attraction  0.500851  0.007243\n",
       "2    cum_fullhist+nostate  attraction  0.370806  0.009352\n",
       "3    cum_fullhist+nostate  attraction  0.530398  0.018316\n",
       "4    cum_fullhist+nostate  attraction  0.438027  0.007722\n",
       "..                    ...         ...       ...       ...\n",
       "275       ops_nohist+prev       train  0.614188  0.012501\n",
       "276       ops_nohist+prev       train  0.467423  0.006496\n",
       "277       ops_nohist+prev       train  0.538241  0.007788\n",
       "278       ops_nohist+prev       train  0.453017  0.005484\n",
       "279       ops_nohist+prev       train  0.648333  0.013629\n",
       "\n",
       "[80 rows x 4 columns]"
      ]
     },
     "execution_count": 108,
     "metadata": {},
     "output_type": "execute_result"
    }
   ],
   "source": [
    "results_domain.loc[\n",
    "    results_domain[\"exp\"].isin([\"cum_fullhist+nostate\", \"ops_nohist+prev\"]), [\"exp\", \"domain\", \"mean\", \"std\"]\n",
    "]"
   ]
  },
  {
   "cell_type": "code",
   "execution_count": null,
   "metadata": {},
   "outputs": [],
   "source": []
  },
  {
   "cell_type": "code",
   "execution_count": null,
   "metadata": {},
   "outputs": [],
   "source": []
  },
  {
   "cell_type": "code",
   "execution_count": null,
   "metadata": {},
   "outputs": [],
   "source": []
  },
  {
   "cell_type": "markdown",
   "metadata": {},
   "source": [
    "---\n",
    "### Run-time"
   ]
  },
  {
   "cell_type": "code",
   "execution_count": null,
   "metadata": {},
   "outputs": [],
   "source": [
    "tmp = pred_df[\"model\"].str.split(\"_\", expand=True)\n",
    "pred_df[\"state_repr\"] = tmp[1].str.strip()\n",
    "pred_df[\"context\"] = tmp[2].str.strip()\n",
    "del tmp"
   ]
  },
  {
   "cell_type": "code",
   "execution_count": null,
   "metadata": {},
   "outputs": [],
   "source": [
    "pred_df[\"size\"] = \"base\"\n",
    "large = [p.name for p in Path(\"../preds/experiment_1/large/\").iterdir()]\n",
    "pred_df.loc[pred_df[\"model\"].isin(large), \"size\"] = \"large\""
   ]
  },
  {
   "cell_type": "code",
   "execution_count": null,
   "metadata": {},
   "outputs": [],
   "source": [
    "pred_df[\"runtime_instance\"] = pred_df[\"runtime\"] / pred_df[\"batch_size\"]"
   ]
  },
  {
   "cell_type": "code",
   "execution_count": null,
   "metadata": {},
   "outputs": [],
   "source": [
    "t = pred_df.loc[pred_df[\"size\"] == \"base\"]\n",
    "rt = t.groupby([\"state_repr\", \"context\"])[\"runtime_instance\"].agg([\"median\", \"std\"])"
   ]
  },
  {
   "cell_type": "code",
   "execution_count": null,
   "metadata": {},
   "outputs": [],
   "source": [
    "rt[\"relative\"] = rt[\"median\"] / rt[\"median\"].min()"
   ]
  },
  {
   "cell_type": "code",
   "execution_count": null,
   "metadata": {},
   "outputs": [],
   "source": [
    "print(\n",
    "    rt[[\"median\", \"relative\"]]\n",
    "    .reset_index()\n",
    "    .assign(\n",
    "        state_repr=lambda df_: df_[\"state_repr\"].map({\"cum\": \"Cumulative\", \"ops\": \"State operations\"}),\n",
    "        median=lambda df_: df_[\"median\"] * 100,\n",
    "    )\n",
    "    .round(2)\n",
    "    .to_latex(index=False)\n",
    ")"
   ]
  },
  {
   "cell_type": "code",
   "execution_count": null,
   "metadata": {},
   "outputs": [],
   "source": []
  },
  {
   "cell_type": "markdown",
   "metadata": {},
   "source": [
    "---\n",
    "\n",
    "### Model selection and results"
   ]
  },
  {
   "cell_type": "code",
   "execution_count": null,
   "metadata": {},
   "outputs": [],
   "source": [
    "eval_cols = [\n",
    "    \"jga_turn_22\",\n",
    "    \"jga_turn_24\",\n",
    "]\n",
    "\n",
    "index_cols = [\n",
    "    \"model\",\n",
    "    \"epoch\",\n",
    "    \"version\",\n",
    "    \"size\",\n",
    "]"
   ]
  },
  {
   "cell_type": "code",
   "execution_count": null,
   "metadata": {},
   "outputs": [],
   "source": [
    "val_df = (\n",
    "    pred_df.loc[pred_df[\"split\"] == \"validation\", eval_cols + index_cols]\n",
    "    .groupby(index_cols)[eval_cols]\n",
    "    .mean()\n",
    "    .reset_index()\n",
    ")\n",
    "\n",
    "val_df = (\n",
    "    val_df.groupby([\"model\", \"version\"])\n",
    "    .apply(lambda df_: df_.set_index([\"epoch\"])[eval_cols].idxmax())\n",
    "    .reset_index()\n",
    "    .melt(id_vars=[\"model\", \"version\"], var_name=\"metric\", value_name=\"epoch\")\n",
    ")"
   ]
  },
  {
   "cell_type": "code",
   "execution_count": null,
   "metadata": {},
   "outputs": [],
   "source": [
    "test_df = (\n",
    "    pred_df.loc[pred_df[\"split\"] == \"test\", eval_cols + index_cols]\n",
    "    .groupby(index_cols)[eval_cols]\n",
    "    .mean()\n",
    "    .reset_index()\n",
    "    .melt(id_vars=index_cols, var_name=\"metric\")\n",
    ")"
   ]
  },
  {
   "cell_type": "code",
   "execution_count": null,
   "metadata": {},
   "outputs": [],
   "source": [
    "best_test_val = pd.merge(\n",
    "    test_df,\n",
    "    val_df,\n",
    "    on=[\"model\", \"version\", \"epoch\", \"metric\"],\n",
    "    how=\"inner\",\n",
    ").set_index([\"model\", \"version\", \"epoch\", \"metric\", \"size\"])\n",
    "\n",
    "best_test = test_df.groupby([\"model\", \"version\", \"metric\", \"size\"]).max().drop(columns=[\"epoch\"])"
   ]
  },
  {
   "cell_type": "code",
   "execution_count": null,
   "metadata": {},
   "outputs": [],
   "source": [
    "results = best_test_val.join(best_test, lsuffix=\"_val\", rsuffix=\"_oracle\").reset_index()\n",
    "assert results[\"version\"].nunique() == 1\n",
    "del results[\"version\"]\n",
    "\n",
    "_, results[\"state_repr\"], results[\"context\"], _ = zip(*results[\"model\"].str.split(\"_\"))\n",
    "\n",
    "results = (\n",
    "    results.groupby([\"state_repr\", \"context\", \"size\", \"metric\"])[\"value_val\", \"value_oracle\"].agg([\"mean\", \"std\"]) * 100\n",
    ").reset_index()\n",
    "\n",
    "results.columns = [f\"{i}-{j}\".rstrip(\"-\") for i, j in results.columns]"
   ]
  },
  {
   "cell_type": "code",
   "execution_count": null,
   "metadata": {},
   "outputs": [],
   "source": [
    "results"
   ]
  },
  {
   "cell_type": "code",
   "execution_count": null,
   "metadata": {},
   "outputs": [],
   "source": []
  },
  {
   "cell_type": "code",
   "execution_count": null,
   "metadata": {},
   "outputs": [],
   "source": [
    "pd.merge(results, runtime, on=[\"state_repr\", \"context\", \"size\"], how=\"left\")\n",
    "\n",
    "\n",
    "# .to_latex(float_format=\"{:0.2f}\".format)"
   ]
  },
  {
   "cell_type": "code",
   "execution_count": null,
   "metadata": {},
   "outputs": [],
   "source": [
    "results"
   ]
  },
  {
   "cell_type": "code",
   "execution_count": null,
   "metadata": {},
   "outputs": [],
   "source": [
    "t = results.reset_index()[\"metric\"].str.split(\"_\", expand=True).fillna(\"\")\n",
    "results[\"metric\"] = (t[0] + \"_\" + t[2]).str.strip(\"_\")\n",
    "results[\"data_version\"] = t[2]\n",
    "del t"
   ]
  },
  {
   "cell_type": "code",
   "execution_count": null,
   "metadata": {},
   "outputs": [],
   "source": [
    "r = results.drop(columns=[\"data_version\"]).set_index([\"model\", \"version\", \"metric\"]).unstack(-1)\n",
    "r.columns = [f\"{i}-{j}\" for i, j in r.columns]\n",
    "\n",
    "table = (\n",
    "    r.reset_index()\n",
    "    .drop(columns=[\"epoch-jga_22\", \"epoch-jga_24\"])\n",
    "    .assign(exp=lambda df_: df_[\"model\"].str.split(\"_\").map(lambda ex: f\"{ex[1]}_{ex[2]}\"))\n",
    "    .groupby(\"exp\")\n",
    "    .describe()\n",
    "    .stack(0)\n",
    "    .assign(\n",
    "        mean=lambda df_: df_[\"mean\"] * 100,\n",
    "        std=lambda df_: df_[\"std\"] * 100,\n",
    "        metric=lambda df_: df_.apply(lambda row: f\"{row['mean']:,.2f} pm {row['std']:,.2f}\", axis=1),\n",
    "    )[\"metric\"]\n",
    "    .unstack(-1)\n",
    "    .reset_index()\n",
    "    .iloc[:, [0, 3, 1, 4, 2]]\n",
    ")\n",
    "\n",
    "table[\"state_repr\"], table[\"dialogue_context\"] = zip(*table[\"exp\"].str.split(\"_\"))\n",
    "del table[\"exp\"]\n",
    "\n",
    "table = table.assign(\n",
    "    state_repr=lambda df_: df_[\"state_repr\"].map({\"cum\": \"Cumulative\", \"ops\": \"State operations\"}),\n",
    "    dialogue_context=lambda df_: df_[\"dialogue_context\"].map(\n",
    "        {\n",
    "            \"fullhist+nostate\": \"Full history\",\n",
    "            \"fullhist+prev\": \"Full history and Previous state\",\n",
    "            \"partialhist+prev\": \"Last 4 turns and Previous state\",\n",
    "            \"nohist+prev\": \"Previous state\",\n",
    "        }\n",
    "    ),\n",
    ").set_index([\"state_repr\", \"dialogue_context\"])[[\"value_val-jga_22\", \"value_val-jga_24\"]]\n",
    "table.columns = [\"2.2\", \"2.4\"]"
   ]
  },
  {
   "cell_type": "code",
   "execution_count": null,
   "metadata": {},
   "outputs": [],
   "source": [
    "print(table.to_latex())"
   ]
  },
  {
   "cell_type": "code",
   "execution_count": null,
   "metadata": {},
   "outputs": [],
   "source": []
  },
  {
   "cell_type": "code",
   "execution_count": null,
   "metadata": {},
   "outputs": [],
   "source": []
  },
  {
   "cell_type": "code",
   "execution_count": null,
   "metadata": {},
   "outputs": [],
   "source": []
  },
  {
   "cell_type": "code",
   "execution_count": null,
   "metadata": {},
   "outputs": [],
   "source": [
    "t = results[\"model\"].str.split(\"_\", expand=True)\n",
    "results[\"mode\"] = t[1] + \"_\" + t[2]\n",
    "del t"
   ]
  },
  {
   "cell_type": "code",
   "execution_count": null,
   "metadata": {},
   "outputs": [],
   "source": [
    "results.groupby([\"mode\", \"metric\"])[[\"value_val\", \"value_oracle\"]].describe()"
   ]
  },
  {
   "cell_type": "code",
   "execution_count": null,
   "metadata": {},
   "outputs": [],
   "source": []
  },
  {
   "cell_type": "code",
   "execution_count": null,
   "metadata": {},
   "outputs": [],
   "source": []
  },
  {
   "cell_type": "markdown",
   "metadata": {},
   "source": [
    "---\n",
    "### JGA per dialogue"
   ]
  },
  {
   "cell_type": "code",
   "execution_count": null,
   "metadata": {},
   "outputs": [],
   "source": [
    "eval_cols = [\n",
    "    \"jga_turn_21\",\n",
    "    \"jga_turn_21_clean\",\n",
    "    \"jga_turn_21_clean_complement\",\n",
    "    \"jga_turn_22\",\n",
    "    \"jga_turn_22_clean\",\n",
    "    \"jga_turn_23\",\n",
    "    \"jga_turn_23_clean\",\n",
    "    \"jga_turn_24\",\n",
    "    \"jga_turn_24_clean\",\n",
    "    \"jga_turn_23_clean_complement\",\n",
    "    \"jga_turn_24_clean_complement\",\n",
    "]\n",
    "\n",
    "cols = [\"state_repr\", \"dialogue_context_repr\", \"domains_21\", \"domains_22\", \"domains_23\", \"domains_24\"]"
   ]
  },
  {
   "cell_type": "code",
   "execution_count": null,
   "metadata": {},
   "outputs": [],
   "source": [
    "index_cols = [\n",
    "    \"dialogue_id\",\n",
    "    \"model\",\n",
    "    \"epoch\",\n",
    "    \"split\",\n",
    "    \"version\",\n",
    "]\n",
    "diag_df = pred_df.groupby(index_cols)[eval_cols].mean()"
   ]
  },
  {
   "cell_type": "code",
   "execution_count": null,
   "metadata": {},
   "outputs": [],
   "source": [
    "diag_df.groupby(index_cols[1:]).mean().groupby([\"model\", \"split\", \"version\"]).max()"
   ]
  },
  {
   "cell_type": "code",
   "execution_count": null,
   "metadata": {},
   "outputs": [],
   "source": [
    "results = []\n",
    "for v in tqdm((\"21\", \"22\", \"23\", \"24\")):\n",
    "    eval_cols = [f\"jga_turn_{v}\", f\"jga_turn_{v}_clean\"]\n",
    "    if v != \"22\":\n",
    "        eval_cols += [f\"jga_turn_{v}_clean_complement\"]\n",
    "    tmp = pred_df[[\"model\", \"split\", \"version\", \"epoch\", f\"domains_{v}\"] + eval_cols]\n",
    "    tmp = tmp.explode(f\"domains_{v}\")\n",
    "    tmp = tmp.groupby([\"model\", \"split\", \"version\", \"epoch\", f\"domains_{v}\"])[eval_cols].mean().reset_index()\n",
    "    results.append(tmp)"
   ]
  },
  {
   "cell_type": "code",
   "execution_count": null,
   "metadata": {},
   "outputs": [],
   "source": [
    "a = results[0]"
   ]
  },
  {
   "cell_type": "code",
   "execution_count": null,
   "metadata": {},
   "outputs": [],
   "source": [
    "a.set_index([\"model\", \"split\", \"version\", \"epoch\", \"domains_21\"]).unstack(-1).mean(1)"
   ]
  },
  {
   "cell_type": "code",
   "execution_count": null,
   "metadata": {},
   "outputs": [],
   "source": []
  },
  {
   "cell_type": "code",
   "execution_count": null,
   "metadata": {},
   "outputs": [],
   "source": []
  },
  {
   "cell_type": "code",
   "execution_count": null,
   "metadata": {},
   "outputs": [],
   "source": []
  },
  {
   "cell_type": "code",
   "execution_count": null,
   "metadata": {},
   "outputs": [],
   "source": [
    "a = df.loc[\n",
    "    df[\"model\"] == \"mwoz22_cum_fullhist+prev_2022-11-23T22-58-34\",\n",
    "    [\"dialogue_id\", \"turn_id\", \"states\", \"predictions\", \"version\", \"epoch\"],\n",
    "]\n",
    "a = a.set_index([\"dialogue_id\", \"turn_id\", \"epoch\", \"version\"]).unstack(-1).dropna()"
   ]
  },
  {
   "cell_type": "code",
   "execution_count": null,
   "metadata": {},
   "outputs": [],
   "source": [
    "a.columns = [\"s1\", \"s2\", \"p1\", \"p2\"]"
   ]
  },
  {
   "cell_type": "code",
   "execution_count": null,
   "metadata": {},
   "outputs": [],
   "source": [
    "a[\"diff\"] = a.apply(lambda row: diff_train(row[\"s1\"], row[\"s2\"]), axis=1)\n",
    "a[\"check\"] = a[\"diff\"].map(len) > 0"
   ]
  },
  {
   "cell_type": "code",
   "execution_count": null,
   "metadata": {},
   "outputs": [],
   "source": [
    "a = a.reset_index()"
   ]
  },
  {
   "cell_type": "code",
   "execution_count": null,
   "metadata": {},
   "outputs": [],
   "source": [
    "a.loc[(a[\"check\"] == True) & (a[\"dialogue_id\"] == \"MUL0003.json\") & (a[\"epoch\"] == 0)]"
   ]
  },
  {
   "cell_type": "code",
   "execution_count": null,
   "metadata": {},
   "outputs": [],
   "source": []
  },
  {
   "cell_type": "code",
   "execution_count": null,
   "metadata": {},
   "outputs": [],
   "source": []
  },
  {
   "cell_type": "code",
   "execution_count": null,
   "metadata": {},
   "outputs": [],
   "source": []
  },
  {
   "cell_type": "code",
   "execution_count": null,
   "metadata": {},
   "outputs": [],
   "source": []
  },
  {
   "cell_type": "code",
   "execution_count": null,
   "metadata": {},
   "outputs": [],
   "source": [
    "b = a.groupby([\"dialogue_id\", \"turn_id\", \"epoch\"])[\"predictions\"].nunique()\n",
    "b = b.loc[b > 1]"
   ]
  },
  {
   "cell_type": "code",
   "execution_count": null,
   "metadata": {},
   "outputs": [],
   "source": [
    "b.reset_index()"
   ]
  },
  {
   "cell_type": "code",
   "execution_count": null,
   "metadata": {},
   "outputs": [],
   "source": []
  },
  {
   "cell_type": "code",
   "execution_count": null,
   "metadata": {},
   "outputs": [],
   "source": [
    "# true_df[\"states_24_normalized\"] = true_df.swifter.apply(lambda row: normalize_labels(row[\"states_22\"], row[\"states_24\"]), axis=1)"
   ]
  },
  {
   "cell_type": "code",
   "execution_count": null,
   "metadata": {},
   "outputs": [],
   "source": [
    "slots = list(set(i for v in true_df[\"states_22\"].map(extract_slots) for i in v))"
   ]
  },
  {
   "cell_type": "code",
   "execution_count": null,
   "metadata": {},
   "outputs": [],
   "source": [
    "values_21 = list(\n",
    "    set([i for v in true_df[\"states_21\"].map(lambda ex: extract_values(clean_slot_values(ex))).tolist() for i in v])\n",
    ")\n",
    "values_22 = list(\n",
    "    set([i for v in true_df[\"states_22\"].map(lambda ex: extract_values(clean_slot_values(ex))).tolist() for i in v])\n",
    ")\n",
    "values_23 = list(\n",
    "    set([i for v in true_df[\"states_23\"].map(lambda ex: extract_values(clean_slot_values(ex))).tolist() for i in v])\n",
    ")\n",
    "values_24 = list(\n",
    "    set([i for v in true_df[\"states_24\"].map(lambda ex: extract_values(clean_slot_values(ex))).tolist() for i in v])\n",
    ")\n",
    "values_pred = list(set([i for v in df[\"states\"].map(extract_values).tolist() for i in v]))"
   ]
  },
  {
   "cell_type": "code",
   "execution_count": null,
   "metadata": {},
   "outputs": [],
   "source": [
    "model = PolyFuzz([TFIDF(model_id=\"TFIDF\"), EditDistance(model_id=\"EDIT\")])\n",
    "model.match(values_22, values_21)\n",
    "# model.group()\n",
    "\n",
    "d = (\n",
    "    pd.concat([v.assign(dist=k) for k, v in model.get_matches().items()])\n",
    "    .set_index([\"From\", \"To\", \"dist\"])\n",
    "    .unstack(-1)\n",
    "    .reset_index()\n",
    ")\n",
    "d.columns = [\"From\", \"To\", \"edit\", \"tfidf\"]\n",
    "d = d.dropna(subset=[\"From\", \"To\"])\n",
    "\n",
    "d[\"time\"] = d[\"From\"].str.contains(\"\\d{2,}\", regex=True) | d[\"To\"].str.contains(\"\\d{2,}\", regex=True)\n",
    "d[\"exact\"] = d[\"From\"] == d[\"To\"]\n",
    "d[\"clean\"] = d[\"From\"].map(clean_text)\n",
    "d[\"token_set\"] = d.apply(lambda row: fuzz.partial_ratio(row[\"From\"], row[\"To\"]), axis=1) / 100\n",
    "\n",
    "d = d.loc[\n",
    "    (d[\"edit\"] > 0)\n",
    "    & (d[\"tfidf\"] > 0)\n",
    "    & (d[\"time\"] == False)\n",
    "    & (d[\"exact\"] == False)\n",
    "    # & (d[\"edit\"] < 1)\n",
    "    # & (d[\"tfidf\"] < 1)\n",
    "]"
   ]
  },
  {
   "cell_type": "code",
   "execution_count": null,
   "metadata": {},
   "outputs": [],
   "source": [
    "d.loc[(d[\"tfidf\"] < 0.5) & (d[\"edit\"] < 0.5)]"
   ]
  },
  {
   "cell_type": "code",
   "execution_count": null,
   "metadata": {},
   "outputs": [],
   "source": [
    "true_df[\"values\"] = true_df[\"states_22\"].map(extract_values)"
   ]
  },
  {
   "cell_type": "code",
   "execution_count": null,
   "metadata": {},
   "outputs": [],
   "source": [
    "s = \"cotto?also,\"\n",
    "true_df.loc[true_df[\"values\"].map(lambda ex: s in ex)]"
   ]
  },
  {
   "cell_type": "code",
   "execution_count": null,
   "metadata": {},
   "outputs": [],
   "source": []
  },
  {
   "cell_type": "code",
   "execution_count": null,
   "metadata": {},
   "outputs": [],
   "source": []
  },
  {
   "cell_type": "code",
   "execution_count": null,
   "metadata": {},
   "outputs": [],
   "source": []
  },
  {
   "cell_type": "code",
   "execution_count": null,
   "metadata": {},
   "outputs": [],
   "source": []
  },
  {
   "cell_type": "code",
   "execution_count": null,
   "metadata": {},
   "outputs": [],
   "source": []
  },
  {
   "cell_type": "code",
   "execution_count": null,
   "metadata": {},
   "outputs": [],
   "source": []
  },
  {
   "cell_type": "code",
   "execution_count": null,
   "metadata": {},
   "outputs": [],
   "source": [
    "s = \"holiday inn\"\n",
    "true_df.loc[(true_df[\"sys_utt_22\"].str.contains(s)) | (true_df[\"sys_utt_22\"].str.contains(s))]"
   ]
  },
  {
   "cell_type": "code",
   "execution_count": null,
   "metadata": {},
   "outputs": [],
   "source": []
  },
  {
   "cell_type": "code",
   "execution_count": null,
   "metadata": {},
   "outputs": [],
   "source": [
    "df.loc[df[\"dialogue_id\"] == \"SNG01735.json\"]"
   ]
  },
  {
   "cell_type": "code",
   "execution_count": null,
   "metadata": {},
   "outputs": [],
   "source": []
  },
  {
   "cell_type": "code",
   "execution_count": null,
   "metadata": {},
   "outputs": [],
   "source": []
  },
  {
   "cell_type": "code",
   "execution_count": null,
   "metadata": {},
   "outputs": [],
   "source": [
    "model.get_matches(\"TFIDF\").set_index(\"Group\")"
   ]
  },
  {
   "cell_type": "code",
   "execution_count": null,
   "metadata": {},
   "outputs": [],
   "source": []
  },
  {
   "cell_type": "code",
   "execution_count": null,
   "metadata": {},
   "outputs": [],
   "source": [
    "l = pd.DataFrame(values_22, columns=[\"labels\"])"
   ]
  },
  {
   "cell_type": "code",
   "execution_count": null,
   "metadata": {},
   "outputs": [],
   "source": [
    "l.loc[l[\"labels\"].str.contains(\"\\d{2,}\", regex=True), \"labels\"].unique()"
   ]
  },
  {
   "cell_type": "code",
   "execution_count": null,
   "metadata": {},
   "outputs": [],
   "source": []
  },
  {
   "cell_type": "code",
   "execution_count": null,
   "metadata": {},
   "outputs": [],
   "source": []
  },
  {
   "cell_type": "code",
   "execution_count": null,
   "metadata": {},
   "outputs": [],
   "source": []
  },
  {
   "cell_type": "code",
   "execution_count": null,
   "metadata": {},
   "outputs": [],
   "source": [
    "t = d.loc[d[\"time\"] == True].copy()"
   ]
  },
  {
   "cell_type": "code",
   "execution_count": null,
   "metadata": {},
   "outputs": [],
   "source": [
    "t[\"from\"] = t[\"From\"].map(clean_time)\n",
    "t"
   ]
  },
  {
   "cell_type": "code",
   "execution_count": null,
   "metadata": {},
   "outputs": [],
   "source": []
  },
  {
   "cell_type": "code",
   "execution_count": null,
   "metadata": {},
   "outputs": [],
   "source": []
  },
  {
   "cell_type": "code",
   "execution_count": null,
   "metadata": {},
   "outputs": [],
   "source": [
    "model = PolyFuzz([TFIDF(model_id=\"TFIDF\"), EditDistance(model_id=\"EDIT\")])\n",
    "model.match(values_22, values_pred)\n",
    "\n",
    "dd = pd.concat([v.assign(dist=k) for k, v in model.get_matches().items()]).set_index([\"From\", \"To\", \"dist\"]).unstack(-1)\n",
    "dd.columns = [\"edit\", \"tfidf\"]\n",
    "dd = dd.reset_index()\n",
    "\n",
    "dd[\"time\"] = dd[\"From\"].str.contains(\"\\d{1,2}:\\d{1,2}\", regex=True) | dd[\"To\"].str.contains(\n",
    "    \"\\d{1,2}:\\d{1,2}\", regex=True\n",
    ")"
   ]
  },
  {
   "cell_type": "code",
   "execution_count": null,
   "metadata": {},
   "outputs": [],
   "source": []
  },
  {
   "cell_type": "code",
   "execution_count": null,
   "metadata": {},
   "outputs": [],
   "source": [
    "pd.merge(d, dd, on=[\"From\", \"To\"], how=\"left\")"
   ]
  },
  {
   "cell_type": "code",
   "execution_count": null,
   "metadata": {},
   "outputs": [],
   "source": [
    "dd.loc[dd[\"time\"] == True]"
   ]
  },
  {
   "cell_type": "code",
   "execution_count": null,
   "metadata": {},
   "outputs": [],
   "source": []
  },
  {
   "cell_type": "code",
   "execution_count": null,
   "metadata": {},
   "outputs": [],
   "source": []
  },
  {
   "cell_type": "code",
   "execution_count": null,
   "metadata": {},
   "outputs": [],
   "source": [
    "t = d.loc[d[\"time\"] == True]"
   ]
  },
  {
   "cell_type": "code",
   "execution_count": null,
   "metadata": {},
   "outputs": [],
   "source": [
    "t[\"from\"] = t[\"From\"].map(clean_time)"
   ]
  },
  {
   "cell_type": "code",
   "execution_count": null,
   "metadata": {},
   "outputs": [],
   "source": [
    "t"
   ]
  },
  {
   "cell_type": "code",
   "execution_count": null,
   "metadata": {},
   "outputs": [],
   "source": []
  },
  {
   "cell_type": "code",
   "execution_count": null,
   "metadata": {},
   "outputs": [],
   "source": []
  },
  {
   "cell_type": "code",
   "execution_count": null,
   "metadata": {},
   "outputs": [],
   "source": []
  },
  {
   "cell_type": "code",
   "execution_count": null,
   "metadata": {},
   "outputs": [],
   "source": []
  },
  {
   "cell_type": "code",
   "execution_count": null,
   "metadata": {},
   "outputs": [],
   "source": []
  },
  {
   "cell_type": "code",
   "execution_count": null,
   "metadata": {},
   "outputs": [],
   "source": [
    "d.loc[(d[\"edit\"] < 1) | (d[\"tfidf\"] < 1)]"
   ]
  },
  {
   "cell_type": "code",
   "execution_count": null,
   "metadata": {},
   "outputs": [],
   "source": []
  },
  {
   "cell_type": "code",
   "execution_count": null,
   "metadata": {},
   "outputs": [],
   "source": [
    "d.loc[d[\"EDIT\"]]"
   ]
  },
  {
   "cell_type": "code",
   "execution_count": null,
   "metadata": {},
   "outputs": [],
   "source": []
  },
  {
   "cell_type": "code",
   "execution_count": null,
   "metadata": {},
   "outputs": [],
   "source": []
  },
  {
   "cell_type": "code",
   "execution_count": null,
   "metadata": {},
   "outputs": [],
   "source": [
    "# s = serializers[\"mwoz22_ops_2022-11-17T13-58-22\"]\n",
    "# pred_df_all[\"rec\"] = pred_df_all.swifter.apply(lambda row: s.deserialize(row[\"predictions\"], row[\"previous_states\"])[1], axis=1)"
   ]
  },
  {
   "cell_type": "code",
   "execution_count": null,
   "metadata": {},
   "outputs": [],
   "source": [
    "# add gold annotations\n",
    "pred_df = pd.merge(\n",
    "    df,\n",
    "    true_df,\n",
    "    on=[\"dialogue_id\", \"turn_id\"],\n",
    "    how=\"inner\",\n",
    ")\n",
    "assert len(df) == len(pred_df)"
   ]
  },
  {
   "cell_type": "code",
   "execution_count": null,
   "metadata": {},
   "outputs": [],
   "source": [
    "pred_df = pred_df.loc[pred_df[\"epoch\"] == 11]"
   ]
  },
  {
   "cell_type": "code",
   "execution_count": null,
   "metadata": {},
   "outputs": [],
   "source": [
    "for col in (\"states\", \"states_22\", \"states_24\"):\n",
    "    pred_df[f\"{col}_clean\"] = pred_df[col].swifter.apply(clean_slot_values)"
   ]
  },
  {
   "cell_type": "code",
   "execution_count": null,
   "metadata": {},
   "outputs": [],
   "source": [
    "# compute correct predictions\n",
    "for version in (2, 4):\n",
    "    # for version in (1, 2, 3, 4):\n",
    "    pred_df[f\"correct_2{version}\"] = pred_df.swifter.apply(\n",
    "        # lambda row: jga(row[\"rec\"], row[f\"states_2{version}\"]),\n",
    "        lambda row: jga(row[\"states\"], row[f\"states_2{version}\"]),\n",
    "        axis=1,\n",
    "    )\n",
    "    pred_df[f\"correct_2{version}_clean\"] = pred_df.swifter.apply(\n",
    "        lambda row: jga(row[\"states_clean\"], row[f\"states_2{version}_clean\"]),\n",
    "        axis=1,\n",
    "    )"
   ]
  },
  {
   "cell_type": "code",
   "execution_count": null,
   "metadata": {},
   "outputs": [],
   "source": [
    "pred_df[\"states_24_complement\"] = pred_df.swifter.apply(\n",
    "    lambda row: complement_labels(row[\"states_22_clean\"], row[\"states_24_clean\"]), axis=1\n",
    ")"
   ]
  },
  {
   "cell_type": "code",
   "execution_count": null,
   "metadata": {},
   "outputs": [],
   "source": [
    "pred_df[f\"correct_2{version}_clean_complement\"] = pred_df.swifter.apply(\n",
    "    lambda row: jga(row[\"states_clean\"], row[f\"states_2{version}_complement\"]),\n",
    "    axis=1,\n",
    ")"
   ]
  },
  {
   "cell_type": "code",
   "execution_count": null,
   "metadata": {},
   "outputs": [],
   "source": [
    "pred_df.groupby([\"model\", \"epoch\", \"version\", \"split\"])[\n",
    "    [\"correct_22\", \"correct_22_clean\", \"correct_24\", \"correct_24_clean\", \"correct_24_clean_complement\"]\n",
    "].mean()"
   ]
  },
  {
   "cell_type": "code",
   "execution_count": null,
   "metadata": {},
   "outputs": [],
   "source": [
    "pred_df"
   ]
  },
  {
   "cell_type": "code",
   "execution_count": null,
   "metadata": {},
   "outputs": [],
   "source": []
  },
  {
   "cell_type": "code",
   "execution_count": null,
   "metadata": {},
   "outputs": [],
   "source": []
  },
  {
   "cell_type": "code",
   "execution_count": null,
   "metadata": {},
   "outputs": [],
   "source": []
  },
  {
   "cell_type": "code",
   "execution_count": null,
   "metadata": {},
   "outputs": [],
   "source": []
  },
  {
   "cell_type": "code",
   "execution_count": null,
   "metadata": {},
   "outputs": [],
   "source": []
  },
  {
   "cell_type": "code",
   "execution_count": null,
   "metadata": {},
   "outputs": [],
   "source": [
    "# pred_df[\"slots\"] = pred_df[\"states\"].swifter.apply(extract_slots)"
   ]
  },
  {
   "cell_type": "code",
   "execution_count": null,
   "metadata": {},
   "outputs": [],
   "source": [
    "# compute correct predictions\n",
    "for version in (2, 4):\n",
    "    pred_df[f\"states_metrics_2{version}\"] = pred_df.swifter.apply(\n",
    "        # lambda row: compute_prf(row[\"rec\"], row[f\"states_2{version}\"], num_slots=30),\n",
    "        lambda row: compute_prf(row[\"states\"], row[f\"states_2{version}\"], num_slots=30),\n",
    "        axis=1,\n",
    "    )"
   ]
  },
  {
   "cell_type": "code",
   "execution_count": null,
   "metadata": {},
   "outputs": [],
   "source": [
    "for version in (2, 4):\n",
    "    (\n",
    "        pred_df[f\"f1_2{version}\"],\n",
    "        pred_df[f\"recall_2{version}\"],\n",
    "        pred_df[f\"precision_2{version}\"],\n",
    "        pred_df[f\"accuracy_2{version}\"],\n",
    "        pred_df[f\"relative_accuracy_2{version}\"],\n",
    "    ) = zip(*list(pred_df[f\"states_metrics_2{version}\"].values))"
   ]
  },
  {
   "cell_type": "code",
   "execution_count": null,
   "metadata": {},
   "outputs": [],
   "source": [
    "jga_cols = [\"correct_22\", \"correct_24\"]\n",
    "metrics = [\n",
    "    f\"{i}_2{version}\" for i in [\"f1\", \"recall\", \"precision\", \"accuracy\", \"relative_accuracy\"] for version in [2, 4]\n",
    "]\n",
    "results = pred_df.groupby([\"split\", \"epoch\", \"model\", \"version\"])[jga_cols + metrics].mean().reset_index()"
   ]
  },
  {
   "cell_type": "code",
   "execution_count": null,
   "metadata": {},
   "outputs": [],
   "source": [
    "results_val = (\n",
    "    results.loc[results[\"split\"] == \"validation\"]\n",
    "    .drop(columns=[\"split\"])\n",
    "    .set_index([\"model\", \"epoch\", \"version\"])\n",
    "    .copy()\n",
    ")\n",
    "\n",
    "results_test = results.loc[results[\"split\"] == \"test\"].drop(columns=[\"split\"]).copy()"
   ]
  },
  {
   "cell_type": "code",
   "execution_count": null,
   "metadata": {},
   "outputs": [],
   "source": [
    "res = results_val.groupby([\"model\", \"version\"])[jga_cols].idxmax()\n",
    "res = res.melt(var_name=\"data_version\")\n",
    "# res[\"data_version\"] = res[\"data_version\"].str.split(\"_\", expand=True)[1]"
   ]
  },
  {
   "cell_type": "code",
   "execution_count": null,
   "metadata": {},
   "outputs": [],
   "source": [
    "res"
   ]
  },
  {
   "cell_type": "code",
   "execution_count": null,
   "metadata": {},
   "outputs": [],
   "source": [
    "list_dfs = []\n",
    "for data_version, (model, epoch, version) in res.values:\n",
    "\n",
    "    t = results_test.loc[\n",
    "        (results_test[\"epoch\"] == epoch) & (results_test[\"model\"] == model) & (results_test[\"version\"] == version),\n",
    "        [\"epoch\", \"model\", \"version\", data_version] + metrics,\n",
    "    ]\n",
    "    t = t.rename(columns={data_version: \"jga\"})\n",
    "    t[\"data_version\"] = data_version.split(\"_\")[1]\n",
    "\n",
    "    list_dfs.append(t)"
   ]
  },
  {
   "cell_type": "code",
   "execution_count": null,
   "metadata": {},
   "outputs": [],
   "source": []
  },
  {
   "cell_type": "code",
   "execution_count": null,
   "metadata": {},
   "outputs": [],
   "source": [
    "pd.concat(list_dfs)"
   ]
  },
  {
   "cell_type": "markdown",
   "metadata": {},
   "source": [
    "---\n",
    "### Errors Ops models"
   ]
  },
  {
   "cell_type": "code",
   "execution_count": null,
   "metadata": {},
   "outputs": [],
   "source": [
    "cols = [\n",
    "    \"model\",\n",
    "    \"epoch\",\n",
    "    \"version\",\n",
    "    \"split\",\n",
    "    \"dialogue_id\",\n",
    "    \"turn_id\",\n",
    "    \"sys_utt_24\",\n",
    "    \"usr_utt_24\",\n",
    "    \"previous_states\",\n",
    "    \"predictions\",\n",
    "    \"states_clean\",\n",
    "    \"states_24_clean_complement\",\n",
    "    \"jga_turn_24_clean_complement\",\n",
    "    \"dialogue_context_repr\",\n",
    "]"
   ]
  },
  {
   "cell_type": "code",
   "execution_count": null,
   "metadata": {},
   "outputs": [],
   "source": [
    "ops_df = pred_df.loc[pred_df[\"model\"].str.contains(\"ops\"), cols].copy()"
   ]
  },
  {
   "cell_type": "code",
   "execution_count": null,
   "metadata": {},
   "outputs": [],
   "source": [
    "err_df = ops_df.loc[ops_df[\"jga_turn_24_clean_complement\"] == False]\n",
    "diffs = err_df.swifter.apply(lambda row: diff(row[\"states_clean\"], row[\"states_24_clean_complement\"]), axis=1)\n",
    "\n",
    "ops_df[\"diffs\"] = None\n",
    "ops_df.loc[ops_df[\"jga_turn_24_clean_complement\"] == False, \"diffs\"] = diffs\n",
    "del err_df, diffs"
   ]
  },
  {
   "cell_type": "code",
   "execution_count": null,
   "metadata": {},
   "outputs": [],
   "source": [
    "ops_df[\"pred_true\"] = ops_df[\"diffs\"].swifter.apply(\n",
    "    lambda ex: tuple(ex[\"pred-true\"].items()) if ex is not None and \"pred-true\" in ex else None\n",
    ")\n",
    "ops_df[\"true_pred\"] = ops_df[\"diffs\"].swifter.apply(\n",
    "    lambda ex: tuple((k, v) for k, v_list in ex[\"true-pred\"].items() for v in v_list)\n",
    "    if ex is not None and \"true-pred\" in ex\n",
    "    else None\n",
    ")"
   ]
  },
  {
   "cell_type": "code",
   "execution_count": null,
   "metadata": {},
   "outputs": [],
   "source": [
    "def wrongly_predicted(ex):\n",
    "    if ex is None or not (\"pred-true\" in ex and \"true-pred\" in ex):\n",
    "        return\n",
    "    preds = []\n",
    "    for k in ex[\"pred-true\"]:\n",
    "        if k in ex[\"true-pred\"]:\n",
    "            preds.append((k, ex[\"pred-true\"][k], tuple(ex[\"true-pred\"][k])))\n",
    "    return tuple(preds)\n",
    "\n",
    "\n",
    "def over_predicted(ex):\n",
    "    if ex is None or \"pred-true\" not in ex:\n",
    "        return\n",
    "\n",
    "    preds = []\n",
    "    for k in ex[\"pred-true\"]:\n",
    "        if \"true-pred\" not in ex or k not in ex[\"true-pred\"]:\n",
    "            preds.append((k, ex[\"pred-true\"][k]))\n",
    "    return tuple(preds)\n",
    "\n",
    "\n",
    "def under_predicted(ex):\n",
    "    if ex is None or \"true-pred\" not in ex:\n",
    "        return\n",
    "\n",
    "    preds = []\n",
    "    for k in ex[\"true-pred\"]:\n",
    "        if \"pred-true\" not in ex or k not in ex[\"pred-true\"]:\n",
    "            preds.append((k, tuple(ex[\"true-pred\"][k])))\n",
    "    return tuple(preds)\n",
    "\n",
    "\n",
    "ops_df[\"wrong\"] = ops_df[\"diffs\"].swifter.apply(wrongly_predicted)\n",
    "ops_df[\"under\"] = ops_df[\"diffs\"].swifter.apply(under_predicted)\n",
    "ops_df[\"over\"] = ops_df[\"diffs\"].swifter.apply(over_predicted)"
   ]
  },
  {
   "cell_type": "code",
   "execution_count": null,
   "metadata": {},
   "outputs": [],
   "source": [
    "# distribution of most frequent errors\n",
    "\n",
    "slot_count = (\n",
    "    ops_df.loc[ops_df[\"split\"] == \"validation\", \"states_24_clean_complement\"]\n",
    "    .map(extract_slots)\n",
    "    .explode(\"states_24_clean_complement\")\n",
    "    .value_counts()\n",
    ")\n",
    "wrong_slots = (\n",
    "    ops_df.loc[(ops_df[\"split\"] == \"validation\") & (ops_df[\"wrong\"] != ()) & (~ops_df[\"wrong\"].isna()), \"wrong\"]\n",
    "    .explode(\"wrong\")\n",
    "    .map(lambda ex: ex[0])\n",
    "    .value_counts()\n",
    ")\n",
    "s = pd.DataFrame({\"n\": slot_count, \"n_wrong\": wrong_slots})\n",
    "s[\"ratio\"] = (s[\"n_wrong\"] / s[\"n\"]) * 100\n",
    "v_values = s[\"ratio\"].sort_values(ascending=False)\n",
    "del slot_count, wrong_slots, s\n",
    "\n",
    "slot_count = (\n",
    "    ops_df.loc[ops_df[\"split\"] == \"test\", \"states_24_clean_complement\"]\n",
    "    .map(extract_slots)\n",
    "    .explode(\"states_24_clean_complement\")\n",
    "    .value_counts()\n",
    ")\n",
    "wrong_slots = (\n",
    "    ops_df.loc[(ops_df[\"split\"] == \"test\") & (ops_df[\"wrong\"] != ()) & (~ops_df[\"wrong\"].isna()), \"wrong\"]\n",
    "    .explode(\"wrong\")\n",
    "    .map(lambda ex: ex[0])\n",
    "    .value_counts()\n",
    ")\n",
    "s = pd.DataFrame({\"n\": slot_count, \"n_wrong\": wrong_slots})\n",
    "s[\"ratio\"] = (s[\"n_wrong\"] / s[\"n\"]) * 100\n",
    "t_values = s[\"ratio\"].sort_values(ascending=False)\n",
    "del slot_count, wrong_slots, s\n",
    "\n",
    "plot_data = (\n",
    "    pd.DataFrame({\"test\": t_values, \"validation\": v_values})\n",
    "    .reset_index()\n",
    "    .melt(id_vars=[\"index\"], value_name=\"perc\", var_name=\"split\")\n",
    "    .sort_values(\"perc\", ascending=False)\n",
    ")\n",
    "sns.barplot(plot_data, y=\"index\", x=\"perc\", hue=\"split\", orient=\"h\")"
   ]
  },
  {
   "cell_type": "code",
   "execution_count": null,
   "metadata": {},
   "outputs": [],
   "source": [
    "ops_df.loc[ops_df[\"epoch\"] > 10, [\"wrong\", \"over\", \"under\"]].applymap(lambda ex: len(ex) if ex is not None else 0).sum()"
   ]
  },
  {
   "cell_type": "code",
   "execution_count": null,
   "metadata": {},
   "outputs": [],
   "source": [
    "true_df.loc[true_df[\"dialogue_id\"] == \"PMUL2088.json\"]"
   ]
  },
  {
   "cell_type": "code",
   "execution_count": null,
   "metadata": {},
   "outputs": [],
   "source": [
    "t = ops_df.loc[\n",
    "    ((~ops_df[\"wrong\"].isna()) | (~ops_df[\"under\"].isna()) | (~ops_df[\"over\"].isna()))\n",
    "    #  & ops_df[\"wrong\"] != ()) | (~ops_df[\"under\"].isna() & ops_df[\"under\"] != ()) | (ops_df[\"over\"] != ()))\n",
    "    & (ops_df[\"wrong\"] != ()) & (ops_df[\"predictions\"] != \"none\") & (ops_df[\"epoch\"] > 3),\n",
    "    # & (ops_df[\"model\"] == \"mwoz22_ops_nohist+prev_2022-11-24T04-26-31\"),\n",
    "    [\n",
    "        \"dialogue_context_repr\",\n",
    "        \"dialogue_id\",\n",
    "        \"turn_id\",\n",
    "        \"sys_utt_24\",\n",
    "        \"usr_utt_24\",\n",
    "        \"previous_states\",\n",
    "        \"predictions\",\n",
    "        \"diffs\",\n",
    "        \"wrong\",\n",
    "        \"under\",\n",
    "        \"over\",\n",
    "        \"epoch\",\n",
    "        \"model\",\n",
    "    ],\n",
    "]\n",
    "\n",
    "n_trials = t[[\"model\", \"epoch\"]].drop_duplicates().shape[0]\n",
    "t[\"turn_occurrence\"] = t.groupby([\"dialogue_id\", \"turn_id\"]).transform(\"size\") / n_trials * 100\n",
    "\n",
    "t = t.explode(\"wrong\")\n",
    "t[\"wrong_slot\"] = t[\"wrong\"].map(lambda ex: ex[0] if ex is not None else None)\n",
    "\n",
    "t = t.drop(columns=[\"model\", \"epoch\"])\n",
    "t = t.drop_duplicates(subset=[\"dialogue_id\", \"turn_id\", \"wrong\", \"under\", \"over\", \"dialogue_context_repr\"])\n",
    "t = t.sort_values(\n",
    "    [\"turn_occurrence\", \"dialogue_id\", \"dialogue_context_repr\", \"turn_id\"], ascending=[False, True, True, True]\n",
    ")\n",
    "# t = t.loc[t.apply(lambda row: row[\"slot\"] in row[\"predictions\"], axis=1)]"
   ]
  },
  {
   "cell_type": "code",
   "execution_count": null,
   "metadata": {},
   "outputs": [],
   "source": [
    "t.head(50)"
   ]
  },
  {
   "cell_type": "code",
   "execution_count": null,
   "metadata": {},
   "outputs": [],
   "source": [
    "wt = t.loc[(~t[\"wrong\"].isna()) & (t[\"wrong\"] != ())].drop(columns=[\"over\", \"under\"])\n",
    "wt.loc[(wt.apply(lambda row: row[\"wrong_slot\"] in row[\"predictions\"], axis=1))].head(50)"
   ]
  },
  {
   "cell_type": "markdown",
   "metadata": {},
   "source": [
    "#### Under-predicted"
   ]
  },
  {
   "cell_type": "code",
   "execution_count": null,
   "metadata": {},
   "outputs": [],
   "source": [
    "t = ops_df.loc[\n",
    "    (~ops_df[\"under\"].isna()) & (ops_df[\"under\"] != ()) & (ops_df[\"predictions\"] != \"none\") & (ops_df[\"epoch\"] > 3),\n",
    "    # & (ops_df[\"model\"] == \"mwoz22_ops_nohist+prev_2022-11-24T04-26-31\"),\n",
    "    [\n",
    "        \"dialogue_context_repr\",\n",
    "        \"dialogue_id\",\n",
    "        \"turn_id\",\n",
    "        \"sys_utt_24\",\n",
    "        \"usr_utt_24\",\n",
    "        \"previous_states\",\n",
    "        \"predictions\",\n",
    "        \"diffs\",\n",
    "        \"under\",\n",
    "        \"epoch\",\n",
    "        \"model\",\n",
    "    ],\n",
    "]\n",
    "\n",
    "n_trials = t[[\"model\", \"epoch\"]].drop_duplicates().shape[0]\n",
    "t[\"turn_occurrence\"] = t.groupby([\"dialogue_id\", \"turn_id\"]).transform(\"size\") / n_trials * 100\n",
    "\n",
    "t = t.explode(\"under\")\n",
    "t[\"under_slot\"] = t[\"under\"].map(lambda ex: ex[0] if ex is not None else None)\n",
    "\n",
    "t = t.drop(columns=[\"model\", \"epoch\"])\n",
    "t = t.drop_duplicates(subset=[\"dialogue_id\", \"turn_id\", \"under\", \"dialogue_context_repr\"])\n",
    "t = t.sort_values(\n",
    "    [\"turn_occurrence\", \"dialogue_id\", \"dialogue_context_repr\", \"turn_id\"], ascending=[False, True, True, True]\n",
    ")\n",
    "# t = t.loc[t.apply(lambda row: row[\"slot\"] in row[\"predictions\"], axis=1)]"
   ]
  },
  {
   "cell_type": "code",
   "execution_count": null,
   "metadata": {},
   "outputs": [],
   "source": [
    "t[\"under_slot\"].value_counts().plot.barh()"
   ]
  },
  {
   "cell_type": "code",
   "execution_count": null,
   "metadata": {},
   "outputs": [],
   "source": [
    "t.loc[(t[\"dialogue_context_repr\"].str.contains(\"prev\")) & (t[\"under_slot\"] == \"hotel-name\")].head(50)"
   ]
  },
  {
   "cell_type": "code",
   "execution_count": null,
   "metadata": {},
   "outputs": [],
   "source": [
    "true_df.loc[true_df[\"dialogue_id\"] == \"MUL0039.json\"]"
   ]
  },
  {
   "cell_type": "code",
   "execution_count": null,
   "metadata": {},
   "outputs": [],
   "source": []
  },
  {
   "cell_type": "code",
   "execution_count": null,
   "metadata": {},
   "outputs": [],
   "source": []
  },
  {
   "cell_type": "markdown",
   "metadata": {},
   "source": [
    "---"
   ]
  },
  {
   "cell_type": "code",
   "execution_count": null,
   "metadata": {},
   "outputs": [],
   "source": []
  },
  {
   "cell_type": "code",
   "execution_count": null,
   "metadata": {},
   "outputs": [],
   "source": []
  },
  {
   "cell_type": "code",
   "execution_count": null,
   "metadata": {},
   "outputs": [],
   "source": []
  },
  {
   "cell_type": "code",
   "execution_count": null,
   "metadata": {},
   "outputs": [],
   "source": []
  },
  {
   "cell_type": "code",
   "execution_count": null,
   "metadata": {},
   "outputs": [],
   "source": []
  },
  {
   "cell_type": "code",
   "execution_count": null,
   "metadata": {},
   "outputs": [],
   "source": []
  },
  {
   "cell_type": "code",
   "execution_count": null,
   "metadata": {},
   "outputs": [],
   "source": [
    "tmp = ops_df.explode(\"pred_true\").groupby([\"pred_true\", \"epoch\"])[\"model\"].agg([\"size\", \"nunique\"]).reset_index()"
   ]
  },
  {
   "cell_type": "code",
   "execution_count": null,
   "metadata": {},
   "outputs": [],
   "source": [
    "tmp[\"slot\"] = tmp[\"pred_true\"].map(lambda ex: ex[0]).str.strip()"
   ]
  },
  {
   "cell_type": "code",
   "execution_count": null,
   "metadata": {},
   "outputs": [],
   "source": [
    "tmp[\"tot_per_slot\"] = tmp.groupby(\"slot\")[\"size\"].transform(\"sum\")\n",
    "tmp[\"tot_per_error\"] = tmp.groupby(\"pred_true\")[\"size\"].transform(\"sum\")"
   ]
  },
  {
   "cell_type": "code",
   "execution_count": null,
   "metadata": {},
   "outputs": [],
   "source": [
    "schema = srsly.read_yaml(\"../data/processed/mwoz_all_versions/schema.yaml\")"
   ]
  },
  {
   "cell_type": "code",
   "execution_count": null,
   "metadata": {},
   "outputs": [],
   "source": [
    "tmp[\"in_schema\"] = tmp[\"slot\"].isin(schema)"
   ]
  },
  {
   "cell_type": "code",
   "execution_count": null,
   "metadata": {},
   "outputs": [],
   "source": [
    "# tmp.to_excel(\"errors.xlsx\", index=False)"
   ]
  },
  {
   "cell_type": "code",
   "execution_count": null,
   "metadata": {},
   "outputs": [],
   "source": [
    "tmp.loc[tmp[\"in_schema\"] == False]"
   ]
  },
  {
   "cell_type": "code",
   "execution_count": null,
   "metadata": {},
   "outputs": [],
   "source": [
    "pred_slot = tmp.groupby(\"slot\")[\"size\"].sum().sort_values(ascending=False).to_frame(\"counts\")"
   ]
  },
  {
   "cell_type": "code",
   "execution_count": null,
   "metadata": {},
   "outputs": [],
   "source": [
    "slots = [i for v in true_df[\"states_22\"].map(extract_slots).tolist() for i in v]\n",
    "slots = pd.Series(slots).value_counts().to_frame(\"counts_true\")"
   ]
  },
  {
   "cell_type": "code",
   "execution_count": null,
   "metadata": {},
   "outputs": [],
   "source": [
    "pred_slot = pred_slot.join(slots)"
   ]
  },
  {
   "cell_type": "code",
   "execution_count": null,
   "metadata": {},
   "outputs": [],
   "source": [
    "pred_slot[\"counts\"] = pred_slot[\"counts\"].rank()"
   ]
  },
  {
   "cell_type": "code",
   "execution_count": null,
   "metadata": {},
   "outputs": [],
   "source": [
    "pred_slot[\"counts_true\"] = pred_slot[\"counts_true\"].rank()"
   ]
  },
  {
   "cell_type": "code",
   "execution_count": null,
   "metadata": {},
   "outputs": [],
   "source": [
    "pred_slot.sort_values([\"counts\", \"counts_true\"], ascending=False)"
   ]
  },
  {
   "cell_type": "code",
   "execution_count": null,
   "metadata": {},
   "outputs": [],
   "source": [
    "pred_slot.max()"
   ]
  },
  {
   "cell_type": "code",
   "execution_count": null,
   "metadata": {},
   "outputs": [],
   "source": [
    "error = \"attraction-name\"\n",
    "ops_df.loc[\n",
    "    (ops_df[\"pred_true\"].map(lambda ex: error in ex[0] if ex is not None else False))\n",
    "    & (ops_df[\"predictions\"].str.contains(f\"INSERT {error}\"))\n",
    "    & (ops_df[\"model\"].str.contains(\"nohist\"))\n",
    "].drop_duplicates(subset=[\"dialogue_id\", \"turn_id\"])"
   ]
  },
  {
   "cell_type": "code",
   "execution_count": null,
   "metadata": {},
   "outputs": [],
   "source": []
  },
  {
   "cell_type": "code",
   "execution_count": null,
   "metadata": {},
   "outputs": [],
   "source": []
  },
  {
   "cell_type": "code",
   "execution_count": null,
   "metadata": {},
   "outputs": [],
   "source": [
    "error = (\"attraction-name\", \"adc\")\n",
    "ops_df.loc[\n",
    "    (ops_df[\"pred_true\"].map(lambda ex: error in ex if ex is not None else False))\n",
    "    & (ops_df[\"predictions\"].str.contains(f\"INSERT {error[0]} = {error[1]}\"))\n",
    "]"
   ]
  },
  {
   "cell_type": "code",
   "execution_count": null,
   "metadata": {},
   "outputs": [],
   "source": []
  },
  {
   "cell_type": "code",
   "execution_count": null,
   "metadata": {},
   "outputs": [],
   "source": [
    "tmp.loc[tmp[\"in_schema\"] == False, \"slot\"].unique()"
   ]
  },
  {
   "cell_type": "code",
   "execution_count": null,
   "metadata": {},
   "outputs": [],
   "source": [
    "tmp[\"pred_true\"].nunique()"
   ]
  },
  {
   "cell_type": "code",
   "execution_count": null,
   "metadata": {},
   "outputs": [],
   "source": [
    "set(i[0] for i in tmp[\"pred_true\"].to_list())"
   ]
  },
  {
   "cell_type": "code",
   "execution_count": null,
   "metadata": {},
   "outputs": [],
   "source": [
    "tmp[\"size\"].sum()"
   ]
  },
  {
   "cell_type": "code",
   "execution_count": null,
   "metadata": {},
   "outputs": [],
   "source": [
    "len(ops_df)"
   ]
  },
  {
   "cell_type": "code",
   "execution_count": null,
   "metadata": {},
   "outputs": [],
   "source": [
    "diag = \"MUL0409.json\"\n",
    "turn = 1\n",
    "error = ((\"attraction-area\", \"center\"),)\n",
    "\n",
    "ops_df.loc[(ops_df[\"pred_true\"] == error) & (ops_df[\"dialogue_id\"] == diag) & (ops_df[\"turn_id\"] == 1)]"
   ]
  },
  {
   "cell_type": "code",
   "execution_count": null,
   "metadata": {},
   "outputs": [],
   "source": [
    "true_df.loc[true_df[\"dialogue_id\"] == diag]"
   ]
  },
  {
   "cell_type": "code",
   "execution_count": null,
   "metadata": {},
   "outputs": [],
   "source": [
    "ops_df[\"states_clean_schema\"] = ops_df[\"states_clean\"].swifter.apply(\n",
    "    lambda ex: {k: v for k, v in ex.items() if k in schema} if ex is not None else None\n",
    ")"
   ]
  },
  {
   "cell_type": "code",
   "execution_count": null,
   "metadata": {},
   "outputs": [],
   "source": [
    "ops_df[f\"jga_turn_22_clean_schema\"] = ops_df.swifter.apply(\n",
    "    lambda row: jga(row[\"states_clean_schema\"], row[f\"states_22_clean\"]),\n",
    "    axis=1,\n",
    ")"
   ]
  },
  {
   "cell_type": "code",
   "execution_count": null,
   "metadata": {},
   "outputs": [],
   "source": [
    "a = (\n",
    "    ops_df.groupby([\"model\", \"epoch\", \"version\", \"split\"])[\"jga_turn_22_clean\", \"jga_turn_22_clean_schema\"]\n",
    "    .mean()\n",
    "    .reset_index()\n",
    ")\n",
    "a[\"diff\"] = a[\"jga_turn_22_clean_schema\"] - a[\"jga_turn_22_clean\"]"
   ]
  },
  {
   "cell_type": "code",
   "execution_count": null,
   "metadata": {},
   "outputs": [],
   "source": [
    "a[\"diff\"].describe()"
   ]
  },
  {
   "cell_type": "code",
   "execution_count": null,
   "metadata": {},
   "outputs": [],
   "source": [
    "a.loc[(a[\"diff\"] < 0.003) & (a[\"split\"] == \"test\")]"
   ]
  },
  {
   "cell_type": "code",
   "execution_count": null,
   "metadata": {},
   "outputs": [],
   "source": []
  }
 ],
 "metadata": {
  "kernelspec": {
   "display_name": "Python 3.9.13 ('skg')",
   "language": "python",
   "name": "python3"
  },
  "language_info": {
   "codemirror_mode": {
    "name": "ipython",
    "version": 3
   },
   "file_extension": ".py",
   "mimetype": "text/x-python",
   "name": "python",
   "nbconvert_exporter": "python",
   "pygments_lexer": "ipython3",
   "version": "3.9.15 (main, Nov 24 2022, 14:31:59) \n[GCC 11.2.0]"
  },
  "orig_nbformat": 4,
  "vscode": {
   "interpreter": {
    "hash": "8be5a08f80b6986640acfbd613e87f6c256daf2d13e3ddd60b50b465f53390b2"
   }
  }
 },
 "nbformat": 4,
 "nbformat_minor": 2
}
