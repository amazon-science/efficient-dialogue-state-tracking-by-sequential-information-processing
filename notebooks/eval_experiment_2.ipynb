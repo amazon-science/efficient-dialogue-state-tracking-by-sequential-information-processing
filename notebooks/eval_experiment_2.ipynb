{
 "cells": [
  {
   "attachments": {},
   "cell_type": "markdown",
   "metadata": {},
   "source": [
    "Evaluating models trained on v2.1 on v2.1 and v2.4"
   ]
  },
  {
   "cell_type": "code",
   "execution_count": 1,
   "metadata": {},
   "outputs": [],
   "source": [
    "%load_ext autoreload\n",
    "%autoreload 2"
   ]
  },
  {
   "cell_type": "code",
   "execution_count": 2,
   "metadata": {},
   "outputs": [],
   "source": [
    "# imports\n",
    "import re\n",
    "from copy import deepcopy\n",
    "from pathlib import Path\n",
    "from typing import *\n",
    "\n",
    "import pandas as pd\n",
    "import srsly\n",
    "import swifter\n",
    "import wandb\n",
    "from datasets import load_from_disk\n",
    "from hydra.utils import instantiate\n",
    "from omegaconf import OmegaConf\n",
    "from tqdm.auto import tqdm\n",
    "\n",
    "pd.set_option(\"display.max_colwidth\", None)\n",
    "pd.set_option(\"display.max_columns\", None)\n",
    "import matplotlib.pyplot as plt\n",
    "import seaborn as sns\n",
    "from matplotlib import ticker\n",
    "from polyfuzz import PolyFuzz\n",
    "from polyfuzz.models import TFIDF, EditDistance\n",
    "from rapidfuzz import fuzz\n",
    "from transformers import AutoModelForSeq2SeqLM, AutoTokenizer\n",
    "\n",
    "from src.data.utilities import (\n",
    "    check_dict_equal,\n",
    "    clean_slot_values,\n",
    "    clean_time,\n",
    "    complement_labels,\n",
    "    diff_train,\n",
    "    extract_domains,\n",
    "    extract_slots,\n",
    "    extract_values,\n",
    "    remove_empty_slots,\n",
    ")\n",
    "from src.evaluation import compute_prf, diff, jga, prepare_states_eval, slot_metrics\n",
    "from src.model import DSTTask"
   ]
  },
  {
   "cell_type": "code",
   "execution_count": 3,
   "metadata": {},
   "outputs": [
    {
     "data": {
      "application/vnd.jupyter.widget-view+json": {
       "model_id": "3c64e3a8b89c4112be9e517c98de7f01",
       "version_major": 2,
       "version_minor": 0
      },
      "text/plain": [
       "experiment_2:   0%|          | 0/1385 [00:00<?, ?it/s]"
      ]
     },
     "metadata": {},
     "output_type": "display_data"
    }
   ],
   "source": [
    "list_dfs = []\n",
    "path = Path(\"../preds\")\n",
    "\n",
    "for exp_path in list(path.rglob(\"*experiment_2\")):\n",
    "\n",
    "    for p in tqdm(list(exp_path.rglob(\"*preds.parquet\")), desc=exp_path.name):\n",
    "\n",
    "        # load\n",
    "        df = pd.read_parquet(p).assign(\n",
    "            split=p.parents[0].name,\n",
    "            epoch=int(p.parents[1].name.split(\"=\")[1]),\n",
    "            version=p.parents[2].name,\n",
    "            model=p.parents[4].name,\n",
    "            size=p.parents[5].name,\n",
    "        )\n",
    "\n",
    "        # extract slots from experiments with normal states\n",
    "        df = df.assign(\n",
    "            states=lambda df_: df_[\"states\"].map(remove_empty_slots),\n",
    "            previous_states=lambda df_: df_[\"previous_states\"].map(remove_empty_slots),\n",
    "        )\n",
    "\n",
    "        list_dfs.append(df)"
   ]
  },
  {
   "cell_type": "code",
   "execution_count": 4,
   "metadata": {},
   "outputs": [],
   "source": [
    "df = pd.concat(list_dfs).reset_index(drop=True)"
   ]
  },
  {
   "cell_type": "code",
   "execution_count": 5,
   "metadata": {},
   "outputs": [
    {
     "name": "stderr",
     "output_type": "stream",
     "text": [
      "/tmp/ipykernel_26358/2276015530.py:1: UserWarning: This pattern is interpreted as a regular expression, and has match groups. To actually get the groups, use str.extract.\n",
      "  somdst = df.loc[df[\"model\"].str.contains(\"(_mwoz21_ops)|(somdst)\")]\n",
      "/tmp/ipykernel_26358/2276015530.py:2: UserWarning: This pattern is interpreted as a regular expression, and has match groups. To actually get the groups, use str.extract.\n",
      "  df = df.loc[~df[\"model\"].str.contains(\"(_mwoz21_ops)|(somdst)\")]\n"
     ]
    }
   ],
   "source": [
    "somdst = df.loc[df[\"model\"].str.contains(\"(_mwoz21_ops)|(somdst)\")]\n",
    "df = df.loc[~df[\"model\"].str.contains(\"(_mwoz21_ops)|(somdst)\")]"
   ]
  },
  {
   "cell_type": "code",
   "execution_count": 6,
   "metadata": {},
   "outputs": [],
   "source": [
    "budget = df.loc[\n",
    "    df[\"model\"].isin([\"mwoz21_ops_nohist+prev_2022-12-23T15-49-06\", \"mwoz21_ops_nohist+prev_2022-12-23T15-50-58\"])\n",
    "]\n",
    "df = df.loc[\n",
    "    ~df[\"model\"].isin([\"mwoz21_ops_nohist+prev_2022-12-23T15-49-06\", \"mwoz21_ops_nohist+prev_2022-12-23T15-50-58\"])\n",
    "]"
   ]
  },
  {
   "cell_type": "code",
   "execution_count": 7,
   "metadata": {},
   "outputs": [
    {
     "data": {
      "text/html": [
       "<div>\n",
       "<style scoped>\n",
       "    .dataframe tbody tr th:only-of-type {\n",
       "        vertical-align: middle;\n",
       "    }\n",
       "\n",
       "    .dataframe tbody tr th {\n",
       "        vertical-align: top;\n",
       "    }\n",
       "\n",
       "    .dataframe thead th {\n",
       "        text-align: right;\n",
       "    }\n",
       "</style>\n",
       "<table border=\"1\" class=\"dataframe\">\n",
       "  <thead>\n",
       "    <tr style=\"text-align: right;\">\n",
       "      <th></th>\n",
       "      <th></th>\n",
       "      <th></th>\n",
       "      <th>epoch</th>\n",
       "      <th>dialogue_id</th>\n",
       "    </tr>\n",
       "    <tr>\n",
       "      <th>model</th>\n",
       "      <th>split</th>\n",
       "      <th>version</th>\n",
       "      <th></th>\n",
       "      <th></th>\n",
       "    </tr>\n",
       "  </thead>\n",
       "  <tbody>\n",
       "    <tr>\n",
       "      <th rowspan=\"2\" valign=\"top\">mwoz21_cum_fullhist+nostate_2022-12-15T18-44-50</th>\n",
       "      <th>test</th>\n",
       "      <th>v0</th>\n",
       "      <td>20</td>\n",
       "      <td>1000</td>\n",
       "    </tr>\n",
       "    <tr>\n",
       "      <th>validation</th>\n",
       "      <th>v0</th>\n",
       "      <td>20</td>\n",
       "      <td>1000</td>\n",
       "    </tr>\n",
       "    <tr>\n",
       "      <th rowspan=\"2\" valign=\"top\">mwoz21_cum_fullhist+nostate_2022-12-19T15-26-55</th>\n",
       "      <th>test</th>\n",
       "      <th>v0</th>\n",
       "      <td>20</td>\n",
       "      <td>1000</td>\n",
       "    </tr>\n",
       "    <tr>\n",
       "      <th>validation</th>\n",
       "      <th>v0</th>\n",
       "      <td>20</td>\n",
       "      <td>1000</td>\n",
       "    </tr>\n",
       "    <tr>\n",
       "      <th rowspan=\"2\" valign=\"top\">mwoz21_cum_fullhist+nostate_2022-12-19T22-28-29</th>\n",
       "      <th>test</th>\n",
       "      <th>v0</th>\n",
       "      <td>20</td>\n",
       "      <td>1000</td>\n",
       "    </tr>\n",
       "    <tr>\n",
       "      <th>validation</th>\n",
       "      <th>v0</th>\n",
       "      <td>20</td>\n",
       "      <td>1000</td>\n",
       "    </tr>\n",
       "    <tr>\n",
       "      <th rowspan=\"2\" valign=\"top\">mwoz21_cum_fullhist+nostate_2022-12-20T05-34-00</th>\n",
       "      <th>test</th>\n",
       "      <th>v0</th>\n",
       "      <td>20</td>\n",
       "      <td>1000</td>\n",
       "    </tr>\n",
       "    <tr>\n",
       "      <th>validation</th>\n",
       "      <th>v0</th>\n",
       "      <td>19</td>\n",
       "      <td>1000</td>\n",
       "    </tr>\n",
       "    <tr>\n",
       "      <th rowspan=\"2\" valign=\"top\">mwoz21_cum_fullhist+nostate_2022-12-20T12-43-11</th>\n",
       "      <th>test</th>\n",
       "      <th>v0</th>\n",
       "      <td>19</td>\n",
       "      <td>1000</td>\n",
       "    </tr>\n",
       "    <tr>\n",
       "      <th>validation</th>\n",
       "      <th>v0</th>\n",
       "      <td>20</td>\n",
       "      <td>1000</td>\n",
       "    </tr>\n",
       "    <tr>\n",
       "      <th rowspan=\"8\" valign=\"top\">mwoz21_ops_nohist+prev_2022-12-28T18-28-05</th>\n",
       "      <th rowspan=\"4\" valign=\"top\">test</th>\n",
       "      <th>v1</th>\n",
       "      <td>20</td>\n",
       "      <td>1000</td>\n",
       "    </tr>\n",
       "    <tr>\n",
       "      <th>v2</th>\n",
       "      <td>20</td>\n",
       "      <td>1000</td>\n",
       "    </tr>\n",
       "    <tr>\n",
       "      <th>v3</th>\n",
       "      <td>20</td>\n",
       "      <td>1000</td>\n",
       "    </tr>\n",
       "    <tr>\n",
       "      <th>v4</th>\n",
       "      <td>20</td>\n",
       "      <td>1000</td>\n",
       "    </tr>\n",
       "    <tr>\n",
       "      <th rowspan=\"4\" valign=\"top\">validation</th>\n",
       "      <th>v1</th>\n",
       "      <td>20</td>\n",
       "      <td>1000</td>\n",
       "    </tr>\n",
       "    <tr>\n",
       "      <th>v2</th>\n",
       "      <td>20</td>\n",
       "      <td>1000</td>\n",
       "    </tr>\n",
       "    <tr>\n",
       "      <th>v3</th>\n",
       "      <td>20</td>\n",
       "      <td>1000</td>\n",
       "    </tr>\n",
       "    <tr>\n",
       "      <th>v4</th>\n",
       "      <td>20</td>\n",
       "      <td>1000</td>\n",
       "    </tr>\n",
       "    <tr>\n",
       "      <th rowspan=\"8\" valign=\"top\">mwoz21_ops_nohist+prev_2022-12-28T18-30-36</th>\n",
       "      <th rowspan=\"4\" valign=\"top\">test</th>\n",
       "      <th>v1</th>\n",
       "      <td>20</td>\n",
       "      <td>1000</td>\n",
       "    </tr>\n",
       "    <tr>\n",
       "      <th>v2</th>\n",
       "      <td>20</td>\n",
       "      <td>1000</td>\n",
       "    </tr>\n",
       "    <tr>\n",
       "      <th>v3</th>\n",
       "      <td>20</td>\n",
       "      <td>1000</td>\n",
       "    </tr>\n",
       "    <tr>\n",
       "      <th>v4</th>\n",
       "      <td>20</td>\n",
       "      <td>1000</td>\n",
       "    </tr>\n",
       "    <tr>\n",
       "      <th rowspan=\"4\" valign=\"top\">validation</th>\n",
       "      <th>v1</th>\n",
       "      <td>20</td>\n",
       "      <td>1000</td>\n",
       "    </tr>\n",
       "    <tr>\n",
       "      <th>v2</th>\n",
       "      <td>20</td>\n",
       "      <td>1000</td>\n",
       "    </tr>\n",
       "    <tr>\n",
       "      <th>v3</th>\n",
       "      <td>20</td>\n",
       "      <td>1000</td>\n",
       "    </tr>\n",
       "    <tr>\n",
       "      <th>v4</th>\n",
       "      <td>20</td>\n",
       "      <td>1000</td>\n",
       "    </tr>\n",
       "    <tr>\n",
       "      <th rowspan=\"8\" valign=\"top\">mwoz21_ops_nohist+prev_2022-12-28T22-01-52</th>\n",
       "      <th rowspan=\"4\" valign=\"top\">test</th>\n",
       "      <th>v1</th>\n",
       "      <td>20</td>\n",
       "      <td>1000</td>\n",
       "    </tr>\n",
       "    <tr>\n",
       "      <th>v2</th>\n",
       "      <td>20</td>\n",
       "      <td>1000</td>\n",
       "    </tr>\n",
       "    <tr>\n",
       "      <th>v3</th>\n",
       "      <td>20</td>\n",
       "      <td>1000</td>\n",
       "    </tr>\n",
       "    <tr>\n",
       "      <th>v4</th>\n",
       "      <td>20</td>\n",
       "      <td>1000</td>\n",
       "    </tr>\n",
       "    <tr>\n",
       "      <th rowspan=\"4\" valign=\"top\">validation</th>\n",
       "      <th>v1</th>\n",
       "      <td>20</td>\n",
       "      <td>1000</td>\n",
       "    </tr>\n",
       "    <tr>\n",
       "      <th>v2</th>\n",
       "      <td>20</td>\n",
       "      <td>1000</td>\n",
       "    </tr>\n",
       "    <tr>\n",
       "      <th>v3</th>\n",
       "      <td>20</td>\n",
       "      <td>1000</td>\n",
       "    </tr>\n",
       "    <tr>\n",
       "      <th>v4</th>\n",
       "      <td>20</td>\n",
       "      <td>1000</td>\n",
       "    </tr>\n",
       "    <tr>\n",
       "      <th rowspan=\"8\" valign=\"top\">mwoz21_ops_nohist+prev_2022-12-28T22-08-59</th>\n",
       "      <th rowspan=\"4\" valign=\"top\">test</th>\n",
       "      <th>v1</th>\n",
       "      <td>20</td>\n",
       "      <td>1000</td>\n",
       "    </tr>\n",
       "    <tr>\n",
       "      <th>v2</th>\n",
       "      <td>20</td>\n",
       "      <td>1000</td>\n",
       "    </tr>\n",
       "    <tr>\n",
       "      <th>v3</th>\n",
       "      <td>20</td>\n",
       "      <td>1000</td>\n",
       "    </tr>\n",
       "    <tr>\n",
       "      <th>v4</th>\n",
       "      <td>20</td>\n",
       "      <td>1000</td>\n",
       "    </tr>\n",
       "    <tr>\n",
       "      <th rowspan=\"4\" valign=\"top\">validation</th>\n",
       "      <th>v1</th>\n",
       "      <td>20</td>\n",
       "      <td>1000</td>\n",
       "    </tr>\n",
       "    <tr>\n",
       "      <th>v2</th>\n",
       "      <td>20</td>\n",
       "      <td>1000</td>\n",
       "    </tr>\n",
       "    <tr>\n",
       "      <th>v3</th>\n",
       "      <td>20</td>\n",
       "      <td>1000</td>\n",
       "    </tr>\n",
       "    <tr>\n",
       "      <th>v4</th>\n",
       "      <td>20</td>\n",
       "      <td>1000</td>\n",
       "    </tr>\n",
       "    <tr>\n",
       "      <th rowspan=\"8\" valign=\"top\">mwoz21_ops_nohist+prev_2022-12-29T01-44-12</th>\n",
       "      <th rowspan=\"4\" valign=\"top\">test</th>\n",
       "      <th>v1</th>\n",
       "      <td>20</td>\n",
       "      <td>1000</td>\n",
       "    </tr>\n",
       "    <tr>\n",
       "      <th>v2</th>\n",
       "      <td>20</td>\n",
       "      <td>1000</td>\n",
       "    </tr>\n",
       "    <tr>\n",
       "      <th>v3</th>\n",
       "      <td>20</td>\n",
       "      <td>1000</td>\n",
       "    </tr>\n",
       "    <tr>\n",
       "      <th>v4</th>\n",
       "      <td>20</td>\n",
       "      <td>1000</td>\n",
       "    </tr>\n",
       "    <tr>\n",
       "      <th rowspan=\"4\" valign=\"top\">validation</th>\n",
       "      <th>v1</th>\n",
       "      <td>20</td>\n",
       "      <td>1000</td>\n",
       "    </tr>\n",
       "    <tr>\n",
       "      <th>v2</th>\n",
       "      <td>20</td>\n",
       "      <td>1000</td>\n",
       "    </tr>\n",
       "    <tr>\n",
       "      <th>v3</th>\n",
       "      <td>20</td>\n",
       "      <td>1000</td>\n",
       "    </tr>\n",
       "    <tr>\n",
       "      <th>v4</th>\n",
       "      <td>20</td>\n",
       "      <td>1000</td>\n",
       "    </tr>\n",
       "    <tr>\n",
       "      <th rowspan=\"2\" valign=\"top\">mwoz21_ops_partialhist+prev_2022-12-15T18-32-58</th>\n",
       "      <th>test</th>\n",
       "      <th>v0</th>\n",
       "      <td>20</td>\n",
       "      <td>1000</td>\n",
       "    </tr>\n",
       "    <tr>\n",
       "      <th>validation</th>\n",
       "      <th>v0</th>\n",
       "      <td>20</td>\n",
       "      <td>1000</td>\n",
       "    </tr>\n",
       "    <tr>\n",
       "      <th rowspan=\"2\" valign=\"top\">mwoz21_ops_partialhist+prev_2022-12-19T15-29-18</th>\n",
       "      <th>test</th>\n",
       "      <th>v0</th>\n",
       "      <td>20</td>\n",
       "      <td>1000</td>\n",
       "    </tr>\n",
       "    <tr>\n",
       "      <th>validation</th>\n",
       "      <th>v0</th>\n",
       "      <td>20</td>\n",
       "      <td>1000</td>\n",
       "    </tr>\n",
       "    <tr>\n",
       "      <th rowspan=\"2\" valign=\"top\">mwoz21_ops_partialhist+prev_2022-12-19T21-31-05</th>\n",
       "      <th>test</th>\n",
       "      <th>v0</th>\n",
       "      <td>20</td>\n",
       "      <td>1000</td>\n",
       "    </tr>\n",
       "    <tr>\n",
       "      <th>validation</th>\n",
       "      <th>v0</th>\n",
       "      <td>20</td>\n",
       "      <td>1000</td>\n",
       "    </tr>\n",
       "    <tr>\n",
       "      <th rowspan=\"2\" valign=\"top\">mwoz21_ops_partialhist+prev_2022-12-20T03-40-06</th>\n",
       "      <th>test</th>\n",
       "      <th>v0</th>\n",
       "      <td>20</td>\n",
       "      <td>1000</td>\n",
       "    </tr>\n",
       "    <tr>\n",
       "      <th>validation</th>\n",
       "      <th>v0</th>\n",
       "      <td>20</td>\n",
       "      <td>1000</td>\n",
       "    </tr>\n",
       "    <tr>\n",
       "      <th rowspan=\"2\" valign=\"top\">mwoz21_ops_partialhist+prev_2022-12-20T09-52-42</th>\n",
       "      <th>test</th>\n",
       "      <th>v0</th>\n",
       "      <td>20</td>\n",
       "      <td>1000</td>\n",
       "    </tr>\n",
       "    <tr>\n",
       "      <th>validation</th>\n",
       "      <th>v0</th>\n",
       "      <td>20</td>\n",
       "      <td>1000</td>\n",
       "    </tr>\n",
       "  </tbody>\n",
       "</table>\n",
       "</div>"
      ],
      "text/plain": [
       "                                                                    epoch  \\\n",
       "model                                           split      version          \n",
       "mwoz21_cum_fullhist+nostate_2022-12-15T18-44-50 test       v0          20   \n",
       "                                                validation v0          20   \n",
       "mwoz21_cum_fullhist+nostate_2022-12-19T15-26-55 test       v0          20   \n",
       "                                                validation v0          20   \n",
       "mwoz21_cum_fullhist+nostate_2022-12-19T22-28-29 test       v0          20   \n",
       "                                                validation v0          20   \n",
       "mwoz21_cum_fullhist+nostate_2022-12-20T05-34-00 test       v0          20   \n",
       "                                                validation v0          19   \n",
       "mwoz21_cum_fullhist+nostate_2022-12-20T12-43-11 test       v0          19   \n",
       "                                                validation v0          20   \n",
       "mwoz21_ops_nohist+prev_2022-12-28T18-28-05      test       v1          20   \n",
       "                                                           v2          20   \n",
       "                                                           v3          20   \n",
       "                                                           v4          20   \n",
       "                                                validation v1          20   \n",
       "                                                           v2          20   \n",
       "                                                           v3          20   \n",
       "                                                           v4          20   \n",
       "mwoz21_ops_nohist+prev_2022-12-28T18-30-36      test       v1          20   \n",
       "                                                           v2          20   \n",
       "                                                           v3          20   \n",
       "                                                           v4          20   \n",
       "                                                validation v1          20   \n",
       "                                                           v2          20   \n",
       "                                                           v3          20   \n",
       "                                                           v4          20   \n",
       "mwoz21_ops_nohist+prev_2022-12-28T22-01-52      test       v1          20   \n",
       "                                                           v2          20   \n",
       "                                                           v3          20   \n",
       "                                                           v4          20   \n",
       "                                                validation v1          20   \n",
       "                                                           v2          20   \n",
       "                                                           v3          20   \n",
       "                                                           v4          20   \n",
       "mwoz21_ops_nohist+prev_2022-12-28T22-08-59      test       v1          20   \n",
       "                                                           v2          20   \n",
       "                                                           v3          20   \n",
       "                                                           v4          20   \n",
       "                                                validation v1          20   \n",
       "                                                           v2          20   \n",
       "                                                           v3          20   \n",
       "                                                           v4          20   \n",
       "mwoz21_ops_nohist+prev_2022-12-29T01-44-12      test       v1          20   \n",
       "                                                           v2          20   \n",
       "                                                           v3          20   \n",
       "                                                           v4          20   \n",
       "                                                validation v1          20   \n",
       "                                                           v2          20   \n",
       "                                                           v3          20   \n",
       "                                                           v4          20   \n",
       "mwoz21_ops_partialhist+prev_2022-12-15T18-32-58 test       v0          20   \n",
       "                                                validation v0          20   \n",
       "mwoz21_ops_partialhist+prev_2022-12-19T15-29-18 test       v0          20   \n",
       "                                                validation v0          20   \n",
       "mwoz21_ops_partialhist+prev_2022-12-19T21-31-05 test       v0          20   \n",
       "                                                validation v0          20   \n",
       "mwoz21_ops_partialhist+prev_2022-12-20T03-40-06 test       v0          20   \n",
       "                                                validation v0          20   \n",
       "mwoz21_ops_partialhist+prev_2022-12-20T09-52-42 test       v0          20   \n",
       "                                                validation v0          20   \n",
       "\n",
       "                                                                    dialogue_id  \n",
       "model                                           split      version               \n",
       "mwoz21_cum_fullhist+nostate_2022-12-15T18-44-50 test       v0              1000  \n",
       "                                                validation v0              1000  \n",
       "mwoz21_cum_fullhist+nostate_2022-12-19T15-26-55 test       v0              1000  \n",
       "                                                validation v0              1000  \n",
       "mwoz21_cum_fullhist+nostate_2022-12-19T22-28-29 test       v0              1000  \n",
       "                                                validation v0              1000  \n",
       "mwoz21_cum_fullhist+nostate_2022-12-20T05-34-00 test       v0              1000  \n",
       "                                                validation v0              1000  \n",
       "mwoz21_cum_fullhist+nostate_2022-12-20T12-43-11 test       v0              1000  \n",
       "                                                validation v0              1000  \n",
       "mwoz21_ops_nohist+prev_2022-12-28T18-28-05      test       v1              1000  \n",
       "                                                           v2              1000  \n",
       "                                                           v3              1000  \n",
       "                                                           v4              1000  \n",
       "                                                validation v1              1000  \n",
       "                                                           v2              1000  \n",
       "                                                           v3              1000  \n",
       "                                                           v4              1000  \n",
       "mwoz21_ops_nohist+prev_2022-12-28T18-30-36      test       v1              1000  \n",
       "                                                           v2              1000  \n",
       "                                                           v3              1000  \n",
       "                                                           v4              1000  \n",
       "                                                validation v1              1000  \n",
       "                                                           v2              1000  \n",
       "                                                           v3              1000  \n",
       "                                                           v4              1000  \n",
       "mwoz21_ops_nohist+prev_2022-12-28T22-01-52      test       v1              1000  \n",
       "                                                           v2              1000  \n",
       "                                                           v3              1000  \n",
       "                                                           v4              1000  \n",
       "                                                validation v1              1000  \n",
       "                                                           v2              1000  \n",
       "                                                           v3              1000  \n",
       "                                                           v4              1000  \n",
       "mwoz21_ops_nohist+prev_2022-12-28T22-08-59      test       v1              1000  \n",
       "                                                           v2              1000  \n",
       "                                                           v3              1000  \n",
       "                                                           v4              1000  \n",
       "                                                validation v1              1000  \n",
       "                                                           v2              1000  \n",
       "                                                           v3              1000  \n",
       "                                                           v4              1000  \n",
       "mwoz21_ops_nohist+prev_2022-12-29T01-44-12      test       v1              1000  \n",
       "                                                           v2              1000  \n",
       "                                                           v3              1000  \n",
       "                                                           v4              1000  \n",
       "                                                validation v1              1000  \n",
       "                                                           v2              1000  \n",
       "                                                           v3              1000  \n",
       "                                                           v4              1000  \n",
       "mwoz21_ops_partialhist+prev_2022-12-15T18-32-58 test       v0              1000  \n",
       "                                                validation v0              1000  \n",
       "mwoz21_ops_partialhist+prev_2022-12-19T15-29-18 test       v0              1000  \n",
       "                                                validation v0              1000  \n",
       "mwoz21_ops_partialhist+prev_2022-12-19T21-31-05 test       v0              1000  \n",
       "                                                validation v0              1000  \n",
       "mwoz21_ops_partialhist+prev_2022-12-20T03-40-06 test       v0              1000  \n",
       "                                                validation v0              1000  \n",
       "mwoz21_ops_partialhist+prev_2022-12-20T09-52-42 test       v0              1000  \n",
       "                                                validation v0              1000  "
      ]
     },
     "execution_count": 7,
     "metadata": {},
     "output_type": "execute_result"
    }
   ],
   "source": [
    "df.groupby([\"model\", \"split\", \"version\"])[[\"epoch\", \"dialogue_id\"]].nunique()"
   ]
  },
  {
   "cell_type": "code",
   "execution_count": 8,
   "metadata": {},
   "outputs": [
    {
     "data": {
      "application/vnd.jupyter.widget-view+json": {
       "model_id": "eeaa5ea6b61a4c3796cc0e0d166d4944",
       "version_major": 2,
       "version_minor": 0
      },
      "text/plain": [
       "Pandas Apply:   0%|          | 0/10030854 [00:00<?, ?it/s]"
      ]
     },
     "metadata": {},
     "output_type": "display_data"
    }
   ],
   "source": [
    "df[\"states\"] = df[\"states\"].swifter.apply(prepare_states_eval)"
   ]
  },
  {
   "cell_type": "code",
   "execution_count": null,
   "metadata": {},
   "outputs": [],
   "source": [
    "# load gold annotations\n",
    "list_dfs = []\n",
    "for v in (\"21\", \"22\", \"23\", \"24\"):\n",
    "    dataset_dict = load_from_disk(f\"../data/processed/multiwoz_{v}\")\n",
    "\n",
    "    true_df = (\n",
    "        pd.concat([dataset_dict[split].to_pandas() for split in (\"test\", \"validation\")])\n",
    "        .sort_values([\"dialogue_id\", \"turn_id\"])\n",
    "        .reset_index(drop=True)\n",
    "        .assign(\n",
    "            states=lambda df_: df_[f\"states\"].map(lambda ex: prepare_states_eval(remove_empty_slots(ex))), version=v\n",
    "        )\n",
    "    )\n",
    "\n",
    "    list_dfs.append(true_df)\n",
    "\n",
    "true_df = pd.concat(list_dfs).reset_index(drop=True)\n",
    "print(len(true_df))\n",
    "true_df = true_df.loc[true_df[\"usr_utt\"] != \"none\", [\"dialogue_id\", \"turn_id\", \"states\", \"version\"]]\n",
    "print(len(true_df))\n",
    "true_df = true_df.set_index([\"dialogue_id\", \"turn_id\", \"version\"]).unstack(-1)\n",
    "true_df.columns = [f\"{i}_{j}\" for i, j in true_df.columns]\n",
    "true_df = true_df.reset_index()"
   ]
  },
  {
   "cell_type": "code",
   "execution_count": null,
   "metadata": {},
   "outputs": [],
   "source": [
    "regexs = []\n",
    "for v in [\"guest house\", \"swimming pool\", \"night club\", \"concert hall\"]:\n",
    "    regexs += [\n",
    "        (re.compile(v, flags=re.IGNORECASE), v.replace(\" \", \"\")),\n",
    "        (re.compile(v.replace(\" \", \"\"), flags=re.IGNORECASE), v),\n",
    "    ]\n",
    "\n",
    "for v in [(\"theater\", \"theatre\"), (\"center\", \"centre\")]:\n",
    "    regexs += [\n",
    "        (re.compile(v[0], flags=re.IGNORECASE), v[1]),\n",
    "        (re.compile(v[1], flags=re.IGNORECASE), v[0]),\n",
    "    ]\n",
    "\n",
    "regexs.append((re.compile(\"star\", flags=re.IGNORECASE), \"\"))\n",
    "\n",
    "\n",
    "def add_variations(state: Union[Dict, None], regexs) -> Union[Dict, None]:\n",
    "    if state is None:\n",
    "        return None\n",
    "\n",
    "    new_state = deepcopy(state)\n",
    "    for k, v_list in new_state.items():\n",
    "        new_v_list = []\n",
    "        for v in v_list:\n",
    "            for pat, sub in regexs:\n",
    "                new_v_list.append(pat.sub(sub, v).strip())\n",
    "\n",
    "                if v.startswith(\"the\"):\n",
    "                    new_v_list.append(v.lstrip(\"the\").strip())\n",
    "\n",
    "        new_state[k] = list(set(new_v_list))\n",
    "\n",
    "    return new_state"
   ]
  },
  {
   "cell_type": "code",
   "execution_count": null,
   "metadata": {},
   "outputs": [],
   "source": [
    "for v in (\"21\", \"22\", \"23\", \"24\"):\n",
    "    true_df[f\"new_states_{v}\"] = true_df[f\"states_{v}\"].map(lambda ex: add_variations(ex, regexs))"
   ]
  },
  {
   "cell_type": "code",
   "execution_count": null,
   "metadata": {},
   "outputs": [],
   "source": [
    "# add gold annotations\n",
    "pred_df = pd.merge(\n",
    "    df,\n",
    "    true_df,\n",
    "    on=[\"dialogue_id\", \"turn_id\"],\n",
    "    how=\"inner\",\n",
    ")\n",
    "# assert len(df) == len(pred_df)"
   ]
  },
  {
   "cell_type": "code",
   "execution_count": null,
   "metadata": {},
   "outputs": [],
   "source": [
    "# compute correct predictions\n",
    "for v in (\"21\", \"22\", \"23\", \"24\"):\n",
    "    pred_df[f\"jga_turn_{v}\"] = pred_df.swifter.apply(\n",
    "        lambda row: jga(row[\"states\"], row[f\"states_{v}\"]),\n",
    "        axis=1,\n",
    "    )\n",
    "\n",
    "    pred_df[f\"new_jga_turn_{v}\"] = pred_df.swifter.apply(\n",
    "        lambda row: jga(row[\"states\"], row[f\"new_states_{v}\"]),\n",
    "        axis=1,\n",
    "    )"
   ]
  },
  {
   "cell_type": "code",
   "execution_count": null,
   "metadata": {},
   "outputs": [],
   "source": [
    "eval_cols = []\n",
    "for v in (\"21\", \"22\", \"23\", \"24\"):\n",
    "    eval_cols += [f\"jga_turn_{v}\", f\"new_jga_turn_{v}\"]\n",
    "index_cols = [\"model\", \"version\", \"split\", \"size\", \"epoch\"]"
   ]
  },
  {
   "cell_type": "code",
   "execution_count": null,
   "metadata": {},
   "outputs": [],
   "source": [
    "results = pred_df.groupby(index_cols)[eval_cols].mean()"
   ]
  },
  {
   "cell_type": "code",
   "execution_count": null,
   "metadata": {},
   "outputs": [],
   "source": [
    "validation_results = []\n",
    "for col in eval_cols:\n",
    "    val_best_ids = results.groupby(index_cols[:-1])[col].idxmax().reset_index()\n",
    "    val_best_ids = val_best_ids.loc[val_best_ids[\"split\"] == \"validation\"].assign(\n",
    "        best_ckpt=lambda df_: df_[col].map(lambda ex: (ex[0], ex[1], ex[3], ex[4]))\n",
    "    )\n",
    "    dd = results.loc[results.index.droplevel(\"split\").isin(val_best_ids[\"best_ckpt\"]), [col]].assign(\n",
    "        metric_name=col, metric=lambda df_: df_[col] * 100\n",
    "    )[[\"metric_name\", \"metric\"]]\n",
    "\n",
    "    validation_results.append(dd)\n",
    "\n",
    "\n",
    "validation_results = pd.concat(validation_results).reset_index()\n",
    "validation_results[\"exp\"] = validation_results[\"model\"].str.split(\"_\").map(lambda ex: f\"{ex[1]}_{ex[2]}\")\n",
    "validation_results = (\n",
    "    validation_results.groupby(index_cols[1:-1] + [\"exp\", \"metric_name\"])[\"metric\"].describe().reset_index()\n",
    ")"
   ]
  },
  {
   "cell_type": "code",
   "execution_count": null,
   "metadata": {},
   "outputs": [],
   "source": [
    "validation_results_gold = validation_results.loc[(validation_results[\"version\"] == \"v4\")].copy()\n",
    "\n",
    "print(\n",
    "    validation_results_gold.loc[(validation_results_gold[\"split\"] == \"test\")]\n",
    "    .drop(columns=[\"version\", \"size\", \"split\", \"exp\", \"count\"])\n",
    "    .round(2)\n",
    "    .to_latex(index=False)\n",
    ")"
   ]
  },
  {
   "cell_type": "code",
   "execution_count": null,
   "metadata": {},
   "outputs": [],
   "source": [
    "all_results = (\n",
    "    validation_results.loc[(validation_results[\"split\"] == \"test\") & (validation_results[\"size\"] == \"base\")]\n",
    "    .drop(columns=[\"version\", \"split\", \"count\"])\n",
    "    .copy()\n",
    "    .assign(\n",
    "        state_repr=lambda df_: df_[\"exp\"]\n",
    "        .str.split(\"_\", expand=True)[0]\n",
    "        .map({\"cum\": \"Cumulative\", \"ops\": \"Operations\"}),\n",
    "        context=lambda df_: df_[\"exp\"]\n",
    "        .str.split(\"_\", expand=True)[1]\n",
    "        .map(\n",
    "            {\n",
    "                \"fullhist+nostate\": \"Full-history\",\n",
    "                \"fullhist+prev\": \"Full-history + State\",\n",
    "                \"nohist+prev\": \"State\",\n",
    "                \"partialhist+prev\": \"4 Turns + State\",\n",
    "            }\n",
    "        ),\n",
    "        metric_name=lambda df_: df_[\"metric_name\"].map(\n",
    "            {\n",
    "                \"jga_turn_21\": \"2.1\",\n",
    "                \"new_jga_turn_21\": \"2.1 (fix labels)\",\n",
    "                \"jga_turn_22\": \"2.2\",\n",
    "                \"new_jga_turn_22\": \"2.2 (fix labels)\",\n",
    "                \"jga_turn_23\": \"2.3\",\n",
    "                \"new_jga_turn_23\": \"2.3 (fix labels)\",\n",
    "                \"jga_turn_24\": \"2.4\",\n",
    "                \"new_jga_turn_24\": \"2.4 (fix labels)\",\n",
    "            }\n",
    "        ),\n",
    "    )[[\"state_repr\", \"context\", \"metric_name\", \"mean\", \"std\", \"min\", \"25%\", \"50%\", \"75%\", \"max\"]]\n",
    "    .rename(\n",
    "        columns={\n",
    "            \"state_repr\": \"State representation\",\n",
    "            \"context\": \"Context\",\n",
    "            \"size\": \"Model size\",\n",
    "            \"metric_name\": \"Dataset version\",\n",
    "        }\n",
    "    )\n",
    "    .set_index([\"State representation\", \"Context\", \"Dataset version\"])\n",
    "    .round(2)\n",
    ")"
   ]
  },
  {
   "cell_type": "code",
   "execution_count": null,
   "metadata": {},
   "outputs": [],
   "source": [
    "# full table\n",
    "print(all_results.reset_index().iloc[:, 1:].to_latex(index=False))"
   ]
  },
  {
   "cell_type": "code",
   "execution_count": null,
   "metadata": {},
   "outputs": [],
   "source": [
    "validation_results.loc[\n",
    "    (validation_results[\"split\"] == \"test\") & (validation_results[\"metric_name\"] == \"new_jga_turn_24\")\n",
    "]"
   ]
  },
  {
   "cell_type": "code",
   "execution_count": null,
   "metadata": {},
   "outputs": [],
   "source": [
    "validation_results.loc[validation_results.version == \"v3\"]"
   ]
  },
  {
   "cell_type": "code",
   "execution_count": null,
   "metadata": {},
   "outputs": [],
   "source": [
    "exp1_table = all_results.reset_index()\n",
    "exp1_table = exp1_table.loc[exp1_table[\"Dataset version\"].str.contains(\"fix\")].assign(\n",
    "    **{\n",
    "        \"Dataset version\": lambda df_: df_[\"Dataset version\"].str.rstrip(\"(fix labels)\").str.strip(),\n",
    "    }\n",
    ")\n",
    "exp1_table"
   ]
  },
  {
   "cell_type": "markdown",
   "metadata": {},
   "source": [
    "---\n",
    "### Run-time"
   ]
  },
  {
   "cell_type": "code",
   "execution_count": null,
   "metadata": {},
   "outputs": [],
   "source": [
    "tmp = pred_df[\"model\"].str.split(\"_\", expand=True)\n",
    "pred_df[\"state_repr\"] = tmp[1].str.strip()\n",
    "pred_df[\"context\"] = tmp[2].str.strip()\n",
    "del tmp"
   ]
  },
  {
   "cell_type": "code",
   "execution_count": null,
   "metadata": {},
   "outputs": [],
   "source": [
    "pred_df[\"size\"] = \"base\"\n",
    "large = [p.name for p in Path(\"../preds/experiment_1/large/\").iterdir()]\n",
    "pred_df.loc[pred_df[\"model\"].isin(large), \"size\"] = \"large\""
   ]
  },
  {
   "cell_type": "code",
   "execution_count": null,
   "metadata": {},
   "outputs": [],
   "source": [
    "pred_df[\"runtime_instance\"] = pred_df[\"runtime\"] / pred_df[\"batch_size\"]"
   ]
  },
  {
   "cell_type": "code",
   "execution_count": null,
   "metadata": {},
   "outputs": [],
   "source": [
    "t = pred_df.loc[pred_df[\"size\"] == \"base\"]\n",
    "rt = t.groupby([\"state_repr\", \"context\"])[\"runtime_instance\"].agg([\"median\", \"std\"])"
   ]
  },
  {
   "cell_type": "code",
   "execution_count": null,
   "metadata": {},
   "outputs": [],
   "source": [
    "rt[\"relative\"] = rt[\"median\"] / rt[\"median\"].min()"
   ]
  },
  {
   "cell_type": "code",
   "execution_count": null,
   "metadata": {},
   "outputs": [],
   "source": [
    "print(\n",
    "    rt[[\"median\", \"relative\"]]\n",
    "    .reset_index()\n",
    "    .assign(\n",
    "        state_repr=lambda df_: df_[\"state_repr\"].map({\"cum\": \"Cumulative\", \"ops\": \"State operations\"}),\n",
    "        median=lambda df_: df_[\"median\"] * 100,\n",
    "    )\n",
    "    .round(2)\n",
    "    .to_latex(index=False)\n",
    ")"
   ]
  },
  {
   "cell_type": "markdown",
   "metadata": {},
   "source": [
    "---"
   ]
  },
  {
   "cell_type": "code",
   "execution_count": null,
   "metadata": {},
   "outputs": [],
   "source": [
    "def f(ex):\n",
    "    if ex is None:\n",
    "        return None\n",
    "\n",
    "    new_state = {k: v for k, v in ex.items() if v != \"none\"}\n",
    "\n",
    "    if len(new_state) < 1:\n",
    "        return None\n",
    "\n",
    "    return new_state"
   ]
  },
  {
   "cell_type": "code",
   "execution_count": null,
   "metadata": {},
   "outputs": [],
   "source": [
    "somdst[\"states\"] = somdst[\"states\"].map(f)\n",
    "somdst[\"previous_states\"] = somdst[\"previous_states\"].map(f)"
   ]
  },
  {
   "cell_type": "code",
   "execution_count": null,
   "metadata": {},
   "outputs": [],
   "source": [
    "# add gold annotations\n",
    "pred_df_somdst = pd.merge(\n",
    "    somdst,\n",
    "    true_df,\n",
    "    on=[\"dialogue_id\", \"turn_id\"],\n",
    "    how=\"inner\",\n",
    ")\n",
    "# assert len(df) == len(pred_df)"
   ]
  },
  {
   "cell_type": "code",
   "execution_count": null,
   "metadata": {},
   "outputs": [],
   "source": [
    "# compute correct predictions\n",
    "for v in (\"21\", \"22\", \"23\", \"24\"):\n",
    "    pred_df_somdst[f\"jga_turn_{v}\"] = pred_df_somdst.swifter.apply(\n",
    "        lambda row: jga(row[\"states\"], row[f\"states_{v}\"]),\n",
    "        axis=1,\n",
    "    )\n",
    "\n",
    "    pred_df_somdst[f\"new_jga_turn_{v}\"] = pred_df_somdst.swifter.apply(\n",
    "        lambda row: jga(row[\"states\"], row[f\"new_states_{v}\"]),\n",
    "        axis=1,\n",
    "    )"
   ]
  },
  {
   "cell_type": "code",
   "execution_count": null,
   "metadata": {},
   "outputs": [],
   "source": [
    "s = pred_df_somdst.loc[pred_df_somdst[\"model\"].str.contains(\"(somdst)\")]"
   ]
  },
  {
   "cell_type": "code",
   "execution_count": null,
   "metadata": {},
   "outputs": [],
   "source": [
    "results_somdst = s.groupby([\"model\", \"epoch\", \"split\"])[eval_cols].mean()"
   ]
  },
  {
   "cell_type": "code",
   "execution_count": null,
   "metadata": {},
   "outputs": [],
   "source": [
    "val_best_ids"
   ]
  },
  {
   "cell_type": "code",
   "execution_count": null,
   "metadata": {},
   "outputs": [],
   "source": [
    "validation_results_somdst = []\n",
    "for col in eval_cols:\n",
    "    val_best_ids = results_somdst.groupby([\"model\", \"split\"])[col].idxmax().reset_index()\n",
    "    val_best_ids = val_best_ids.loc[val_best_ids[\"split\"] == \"validation\"].assign(\n",
    "        best_ckpt=lambda df_: df_[col].map(lambda ex: (ex[0], ex[1]))\n",
    "    )\n",
    "    dd = results_somdst.loc[results_somdst.index.droplevel(\"split\").isin(val_best_ids[\"best_ckpt\"]), [col]].assign(\n",
    "        metric_name=col, metric=lambda df_: df_[col] * 100\n",
    "    )[[\"metric_name\", \"metric\"]]\n",
    "\n",
    "    validation_results_somdst.append(dd)\n",
    "\n",
    "\n",
    "validation_results_somdst = pd.concat(validation_results_somdst).reset_index()\n",
    "# validation_results_somdst[\"exp\"] = validation_results_somdst[\"model\"].str.split(\"_\").map(lambda ex: f\"{ex[1]}_{ex[2]}\")\n",
    "# validation_results_somdst = validation_results_somdst.groupby([\"split\"] + [\"exp\", \"metric_name\"])[\"metric\"].describe().reset_index()"
   ]
  },
  {
   "cell_type": "code",
   "execution_count": null,
   "metadata": {},
   "outputs": [],
   "source": [
    "validation_results_somdst.loc[validation_results_somdst[\"split\"] == \"test\"].sort_values(\"model\")"
   ]
  },
  {
   "cell_type": "code",
   "execution_count": null,
   "metadata": {},
   "outputs": [],
   "source": [
    "results_somdst.loc[\n",
    "    (results_somdst.index.get_level_values(\"model\") == \"mwoz21_ops_somdst_2022-12-21T23-48-52\")\n",
    "    & (results_somdst.index.get_level_values(\"split\") == \"test\")\n",
    "]"
   ]
  },
  {
   "cell_type": "code",
   "execution_count": null,
   "metadata": {},
   "outputs": [],
   "source": []
  },
  {
   "cell_type": "code",
   "execution_count": null,
   "metadata": {},
   "outputs": [],
   "source": [
    "a = s.groupby([\"model\", \"split\"])[eval_cols].describe().stack(0)"
   ]
  },
  {
   "cell_type": "code",
   "execution_count": null,
   "metadata": {},
   "outputs": [],
   "source": [
    "a = a.loc[a.index.get_level_values(\"split\") == \"test\", [\"mean\", \"std\", \"min\", \"25%\", \"50%\", \"75%\", \"max\"]] * 100"
   ]
  },
  {
   "cell_type": "code",
   "execution_count": null,
   "metadata": {},
   "outputs": [],
   "source": [
    "a.round(2)"
   ]
  },
  {
   "cell_type": "markdown",
   "metadata": {},
   "source": [
    "---"
   ]
  },
  {
   "cell_type": "code",
   "execution_count": null,
   "metadata": {},
   "outputs": [],
   "source": [
    "results"
   ]
  },
  {
   "cell_type": "code",
   "execution_count": null,
   "metadata": {},
   "outputs": [],
   "source": [
    "val = []\n",
    "for col in eval_cols:\n",
    "    val_best_ids = results.groupby(index_cols[:-1])[col].idxmax().reset_index()\n",
    "    val_best_ids = val_best_ids.loc[val_best_ids[\"split\"] == \"validation\"].assign(\n",
    "        best_ckpt=lambda df_: df_[col].map(lambda ex: (ex[0], ex[1], ex[3], ex[4]))\n",
    "    )\n",
    "    dd = results.loc[results.index.droplevel(\"split\").isin(val_best_ids[\"best_ckpt\"]), [col]].assign(\n",
    "        metric_name=col, metric=lambda df_: df_[col] * 100\n",
    "    )[[\"metric_name\", \"metric\"]]\n",
    "\n",
    "    val.append(dd)\n",
    "\n",
    "\n",
    "val = pd.concat(val).reset_index()"
   ]
  },
  {
   "cell_type": "code",
   "execution_count": null,
   "metadata": {},
   "outputs": [],
   "source": [
    "val = val.loc[val[\"metric_name\"] == \"new_jga_turn_24\"]"
   ]
  },
  {
   "cell_type": "code",
   "execution_count": null,
   "metadata": {},
   "outputs": [],
   "source": [
    "ids = (\n",
    "    val.loc[(val[\"model\"].str.contains(\"nohist\")) & (val[\"split\"] == \"test\"), [\"model\", \"epoch\", \"version\", \"split\"]]\n",
    "    .drop_duplicates()\n",
    "    .apply(lambda row: f\"{row['model']}_{row['epoch']}_{row['version']}_{row['split']}\", axis=1)\n",
    "    .tolist()\n",
    ")"
   ]
  },
  {
   "cell_type": "code",
   "execution_count": null,
   "metadata": {},
   "outputs": [],
   "source": [
    "check = pred_df.loc[pred_df[\"model\"].str.contains(\"nohist\")]"
   ]
  },
  {
   "cell_type": "code",
   "execution_count": null,
   "metadata": {},
   "outputs": [],
   "source": [
    "check = check.loc[\n",
    "    check.apply(lambda row: f\"{row['model']}_{row['epoch']}_{row['version']}_{row['split']}\", axis=1).isin(ids)\n",
    "]"
   ]
  },
  {
   "cell_type": "code",
   "execution_count": null,
   "metadata": {},
   "outputs": [],
   "source": [
    "dd = check.loc[\n",
    "    check[\"split\"] == \"test\",\n",
    "    [\"version\", \"model\", \"dialogue_id\", \"turn_id\", \"states\", \"predictions\", \"epoch\", \"new_jga_turn_24\", \"input_text\"],\n",
    "]\n",
    "dd = dd.set_index([\"model\", \"dialogue_id\", \"turn_id\", \"version\"]).unstack(-1)\n",
    "dd.columns = [f\"{i}_{j}\" for i, j in dd.columns]"
   ]
  },
  {
   "cell_type": "code",
   "execution_count": null,
   "metadata": {},
   "outputs": [],
   "source": [
    "n, m = \"new_jga_turn_24_v1\", \"new_jga_turn_24_v3\""
   ]
  },
  {
   "cell_type": "code",
   "execution_count": null,
   "metadata": {},
   "outputs": [],
   "source": [
    "# dd.loc[(dd[n] != dd[m])]"
   ]
  },
  {
   "cell_type": "code",
   "execution_count": null,
   "metadata": {},
   "outputs": [],
   "source": [
    "val = val.loc[(val[\"model\"].str.contains(\"nohist\")) & (val[\"version\"] == \"v1\") & (val[\"split\"] == \"test\")]"
   ]
  },
  {
   "cell_type": "code",
   "execution_count": null,
   "metadata": {},
   "outputs": [],
   "source": [
    "ids = (\n",
    "    val.loc[:, [\"model\", \"epoch\", \"version\", \"split\"]]\n",
    "    .drop_duplicates()\n",
    "    .apply(lambda row: f\"{row['model']}_{row['epoch']}_{row['split']}\", axis=1)\n",
    "    .tolist()\n",
    ")"
   ]
  },
  {
   "cell_type": "code",
   "execution_count": null,
   "metadata": {},
   "outputs": [],
   "source": [
    "check_2 = pred_df.loc[(pred_df[\"model\"].str.contains(\"nohist\")) & (pred_df[\"split\"] == \"test\")]"
   ]
  },
  {
   "cell_type": "code",
   "execution_count": null,
   "metadata": {},
   "outputs": [],
   "source": [
    "check_2 = check_2.loc[check_2.apply(lambda row: f\"{row['model']}_{row['epoch']}_{row['split']}\", axis=1).isin(ids)]"
   ]
  },
  {
   "cell_type": "code",
   "execution_count": null,
   "metadata": {},
   "outputs": [],
   "source": [
    "dd = check_2.loc[\n",
    "    check_2[\"split\"] == \"test\",\n",
    "    [\n",
    "        \"version\",\n",
    "        \"model\",\n",
    "        \"dialogue_id\",\n",
    "        \"turn_id\",\n",
    "        \"states\",\n",
    "        \"states_24\",\n",
    "        \"predictions\",\n",
    "        \"epoch\",\n",
    "        \"new_jga_turn_24\",\n",
    "        \"previous_states\",\n",
    "    ],\n",
    "]\n",
    "dd = dd.set_index([\"model\", \"dialogue_id\", \"turn_id\", \"version\"]).unstack(-1)\n",
    "dd.columns = [f\"{i}_{j}\" for i, j in dd.columns]\n",
    "del dd[\"states_24_v1\"]\n",
    "dd = dd.rename(columns={\"states_24_v3\": \"states_true\"})"
   ]
  },
  {
   "cell_type": "code",
   "execution_count": null,
   "metadata": {},
   "outputs": [],
   "source": [
    "dd.loc[(dd[n] == True) & (dd[m] == False)].head(1)"
   ]
  },
  {
   "cell_type": "code",
   "execution_count": null,
   "metadata": {},
   "outputs": [],
   "source": [
    "dd.loc[(dd[n] == True) & (dd[m] == False)].iloc[0, -1]"
   ]
  },
  {
   "cell_type": "code",
   "execution_count": null,
   "metadata": {},
   "outputs": [],
   "source": [
    "true_df.loc[(true_df[\"dialogue_id\"] == \"MUL0014.json\") & (true_df[\"turn_id\"] == 5)].iloc[-1, -8]"
   ]
  },
  {
   "cell_type": "code",
   "execution_count": null,
   "metadata": {},
   "outputs": [],
   "source": [
    "dd[n].where(dd[n] == False, dd[m]).mean()"
   ]
  },
  {
   "cell_type": "code",
   "execution_count": null,
   "metadata": {},
   "outputs": [],
   "source": []
  }
 ],
 "metadata": {
  "kernelspec": {
   "display_name": "Python 3.9.13 ('skg')",
   "language": "python",
   "name": "python3"
  },
  "language_info": {
   "codemirror_mode": {
    "name": "ipython",
    "version": 3
   },
   "file_extension": ".py",
   "mimetype": "text/x-python",
   "name": "python",
   "nbconvert_exporter": "python",
   "pygments_lexer": "ipython3",
   "version": "3.9.13"
  },
  "orig_nbformat": 4,
  "vscode": {
   "interpreter": {
    "hash": "8be5a08f80b6986640acfbd613e87f6c256daf2d13e3ddd60b50b465f53390b2"
   }
  }
 },
 "nbformat": 4,
 "nbformat_minor": 2
}
